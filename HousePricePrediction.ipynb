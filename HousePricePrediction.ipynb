{
  "nbformat": 4,
  "nbformat_minor": 0,
  "metadata": {
    "colab": {
      "name": "HousePricePrediction.ipynb",
      "provenance": [],
      "toc_visible": true,
      "include_colab_link": true
    },
    "kernelspec": {
      "name": "python3",
      "display_name": "Python 3"
    },
    "accelerator": "GPU"
  },
  "cells": [
    {
      "cell_type": "markdown",
      "metadata": {
        "id": "view-in-github",
        "colab_type": "text"
      },
      "source": [
        "<a href=\"https://colab.research.google.com/github/Gnkhakimova/CS5590-BigData/blob/master/HousePricePrediction.ipynb\" target=\"_parent\"><img src=\"https://colab.research.google.com/assets/colab-badge.svg\" alt=\"Open In Colab\"/></a>"
      ]
    },
    {
      "cell_type": "markdown",
      "metadata": {
        "id": "CVrCnknZbXn6",
        "colab_type": "text"
      },
      "source": [
        "## House price prediction using Deep Learning "
      ]
    },
    {
      "cell_type": "code",
      "metadata": {
        "id": "qzZj0ryibgWB",
        "colab_type": "code",
        "colab": {}
      },
      "source": [
        "import pandas as pd"
      ],
      "execution_count": 0,
      "outputs": []
    },
    {
      "cell_type": "code",
      "metadata": {
        "id": "hwlQGuLVbyTr",
        "colab_type": "code",
        "colab": {
          "base_uri": "https://localhost:8080/",
          "height": 128
        },
        "outputId": "16103fdc-2535-4a6a-f249-cae20e6822f9"
      },
      "source": [
        "from google.colab import drive\n",
        "drive.mount('/content/drive')"
      ],
      "execution_count": 2,
      "outputs": [
        {
          "output_type": "stream",
          "text": [
            "Go to this URL in a browser: https://accounts.google.com/o/oauth2/auth?client_id=947318989803-6bn6qk8qdgf4n4g3pfee6491hc0brc4i.apps.googleusercontent.com&redirect_uri=urn%3aietf%3awg%3aoauth%3a2.0%3aoob&response_type=code&scope=email%20https%3a%2f%2fwww.googleapis.com%2fauth%2fdocs.test%20https%3a%2f%2fwww.googleapis.com%2fauth%2fdrive%20https%3a%2f%2fwww.googleapis.com%2fauth%2fdrive.photos.readonly%20https%3a%2f%2fwww.googleapis.com%2fauth%2fpeopleapi.readonly\n",
            "\n",
            "Enter your authorization code:\n",
            "··········\n",
            "Mounted at /content/drive\n"
          ],
          "name": "stdout"
        }
      ]
    },
    {
      "cell_type": "code",
      "metadata": {
        "id": "3Qpb0EGXcI3p",
        "colab_type": "code",
        "colab": {}
      },
      "source": [
        "df = pd.read_csv('/content/housepricedata.csv')"
      ],
      "execution_count": 0,
      "outputs": []
    },
    {
      "cell_type": "code",
      "metadata": {
        "id": "oUkTlWa6cU2Z",
        "colab_type": "code",
        "colab": {
          "base_uri": "https://localhost:8080/",
          "height": 427
        },
        "outputId": "0d3898c9-ffa4-4e12-fec0-2cb2adb374f3"
      },
      "source": [
        "df"
      ],
      "execution_count": 4,
      "outputs": [
        {
          "output_type": "execute_result",
          "data": {
            "text/html": [
              "<div>\n",
              "<style scoped>\n",
              "    .dataframe tbody tr th:only-of-type {\n",
              "        vertical-align: middle;\n",
              "    }\n",
              "\n",
              "    .dataframe tbody tr th {\n",
              "        vertical-align: top;\n",
              "    }\n",
              "\n",
              "    .dataframe thead th {\n",
              "        text-align: right;\n",
              "    }\n",
              "</style>\n",
              "<table border=\"1\" class=\"dataframe\">\n",
              "  <thead>\n",
              "    <tr style=\"text-align: right;\">\n",
              "      <th></th>\n",
              "      <th>LotArea</th>\n",
              "      <th>OverallQual</th>\n",
              "      <th>OverallCond</th>\n",
              "      <th>TotalBsmtSF</th>\n",
              "      <th>FullBath</th>\n",
              "      <th>HalfBath</th>\n",
              "      <th>BedroomAbvGr</th>\n",
              "      <th>TotRmsAbvGrd</th>\n",
              "      <th>Fireplaces</th>\n",
              "      <th>GarageArea</th>\n",
              "      <th>AboveMedianPrice</th>\n",
              "    </tr>\n",
              "  </thead>\n",
              "  <tbody>\n",
              "    <tr>\n",
              "      <th>0</th>\n",
              "      <td>8450</td>\n",
              "      <td>7</td>\n",
              "      <td>5</td>\n",
              "      <td>856</td>\n",
              "      <td>2</td>\n",
              "      <td>1</td>\n",
              "      <td>3</td>\n",
              "      <td>8</td>\n",
              "      <td>0</td>\n",
              "      <td>548</td>\n",
              "      <td>1</td>\n",
              "    </tr>\n",
              "    <tr>\n",
              "      <th>1</th>\n",
              "      <td>9600</td>\n",
              "      <td>6</td>\n",
              "      <td>8</td>\n",
              "      <td>1262</td>\n",
              "      <td>2</td>\n",
              "      <td>0</td>\n",
              "      <td>3</td>\n",
              "      <td>6</td>\n",
              "      <td>1</td>\n",
              "      <td>460</td>\n",
              "      <td>1</td>\n",
              "    </tr>\n",
              "    <tr>\n",
              "      <th>2</th>\n",
              "      <td>11250</td>\n",
              "      <td>7</td>\n",
              "      <td>5</td>\n",
              "      <td>920</td>\n",
              "      <td>2</td>\n",
              "      <td>1</td>\n",
              "      <td>3</td>\n",
              "      <td>6</td>\n",
              "      <td>1</td>\n",
              "      <td>608</td>\n",
              "      <td>1</td>\n",
              "    </tr>\n",
              "    <tr>\n",
              "      <th>3</th>\n",
              "      <td>9550</td>\n",
              "      <td>7</td>\n",
              "      <td>5</td>\n",
              "      <td>756</td>\n",
              "      <td>1</td>\n",
              "      <td>0</td>\n",
              "      <td>3</td>\n",
              "      <td>7</td>\n",
              "      <td>1</td>\n",
              "      <td>642</td>\n",
              "      <td>0</td>\n",
              "    </tr>\n",
              "    <tr>\n",
              "      <th>4</th>\n",
              "      <td>14260</td>\n",
              "      <td>8</td>\n",
              "      <td>5</td>\n",
              "      <td>1145</td>\n",
              "      <td>2</td>\n",
              "      <td>1</td>\n",
              "      <td>4</td>\n",
              "      <td>9</td>\n",
              "      <td>1</td>\n",
              "      <td>836</td>\n",
              "      <td>1</td>\n",
              "    </tr>\n",
              "    <tr>\n",
              "      <th>...</th>\n",
              "      <td>...</td>\n",
              "      <td>...</td>\n",
              "      <td>...</td>\n",
              "      <td>...</td>\n",
              "      <td>...</td>\n",
              "      <td>...</td>\n",
              "      <td>...</td>\n",
              "      <td>...</td>\n",
              "      <td>...</td>\n",
              "      <td>...</td>\n",
              "      <td>...</td>\n",
              "    </tr>\n",
              "    <tr>\n",
              "      <th>1455</th>\n",
              "      <td>7917</td>\n",
              "      <td>6</td>\n",
              "      <td>5</td>\n",
              "      <td>953</td>\n",
              "      <td>2</td>\n",
              "      <td>1</td>\n",
              "      <td>3</td>\n",
              "      <td>7</td>\n",
              "      <td>1</td>\n",
              "      <td>460</td>\n",
              "      <td>1</td>\n",
              "    </tr>\n",
              "    <tr>\n",
              "      <th>1456</th>\n",
              "      <td>13175</td>\n",
              "      <td>6</td>\n",
              "      <td>6</td>\n",
              "      <td>1542</td>\n",
              "      <td>2</td>\n",
              "      <td>0</td>\n",
              "      <td>3</td>\n",
              "      <td>7</td>\n",
              "      <td>2</td>\n",
              "      <td>500</td>\n",
              "      <td>1</td>\n",
              "    </tr>\n",
              "    <tr>\n",
              "      <th>1457</th>\n",
              "      <td>9042</td>\n",
              "      <td>7</td>\n",
              "      <td>9</td>\n",
              "      <td>1152</td>\n",
              "      <td>2</td>\n",
              "      <td>0</td>\n",
              "      <td>4</td>\n",
              "      <td>9</td>\n",
              "      <td>2</td>\n",
              "      <td>252</td>\n",
              "      <td>1</td>\n",
              "    </tr>\n",
              "    <tr>\n",
              "      <th>1458</th>\n",
              "      <td>9717</td>\n",
              "      <td>5</td>\n",
              "      <td>6</td>\n",
              "      <td>1078</td>\n",
              "      <td>1</td>\n",
              "      <td>0</td>\n",
              "      <td>2</td>\n",
              "      <td>5</td>\n",
              "      <td>0</td>\n",
              "      <td>240</td>\n",
              "      <td>0</td>\n",
              "    </tr>\n",
              "    <tr>\n",
              "      <th>1459</th>\n",
              "      <td>9937</td>\n",
              "      <td>5</td>\n",
              "      <td>6</td>\n",
              "      <td>1256</td>\n",
              "      <td>1</td>\n",
              "      <td>1</td>\n",
              "      <td>3</td>\n",
              "      <td>6</td>\n",
              "      <td>0</td>\n",
              "      <td>276</td>\n",
              "      <td>0</td>\n",
              "    </tr>\n",
              "  </tbody>\n",
              "</table>\n",
              "<p>1460 rows × 11 columns</p>\n",
              "</div>"
            ],
            "text/plain": [
              "      LotArea  OverallQual  ...  GarageArea  AboveMedianPrice\n",
              "0        8450            7  ...         548                 1\n",
              "1        9600            6  ...         460                 1\n",
              "2       11250            7  ...         608                 1\n",
              "3        9550            7  ...         642                 0\n",
              "4       14260            8  ...         836                 1\n",
              "...       ...          ...  ...         ...               ...\n",
              "1455     7917            6  ...         460                 1\n",
              "1456    13175            6  ...         500                 1\n",
              "1457     9042            7  ...         252                 1\n",
              "1458     9717            5  ...         240                 0\n",
              "1459     9937            5  ...         276                 0\n",
              "\n",
              "[1460 rows x 11 columns]"
            ]
          },
          "metadata": {
            "tags": []
          },
          "execution_count": 4
        }
      ]
    },
    {
      "cell_type": "code",
      "metadata": {
        "id": "GA0I15NFcYLp",
        "colab_type": "code",
        "colab": {}
      },
      "source": [
        "dataset = df.values"
      ],
      "execution_count": 0,
      "outputs": []
    },
    {
      "cell_type": "code",
      "metadata": {
        "id": "lxNmqIqFce3Q",
        "colab_type": "code",
        "colab": {
          "base_uri": "https://localhost:8080/",
          "height": 145
        },
        "outputId": "d972b6f6-8dbd-43fa-9589-610de6c38cb8"
      },
      "source": [
        "dataset"
      ],
      "execution_count": 6,
      "outputs": [
        {
          "output_type": "execute_result",
          "data": {
            "text/plain": [
              "array([[ 8450,     7,     5, ...,     0,   548,     1],\n",
              "       [ 9600,     6,     8, ...,     1,   460,     1],\n",
              "       [11250,     7,     5, ...,     1,   608,     1],\n",
              "       ...,\n",
              "       [ 9042,     7,     9, ...,     2,   252,     1],\n",
              "       [ 9717,     5,     6, ...,     0,   240,     0],\n",
              "       [ 9937,     5,     6, ...,     0,   276,     0]])"
            ]
          },
          "metadata": {
            "tags": []
          },
          "execution_count": 6
        }
      ]
    },
    {
      "cell_type": "code",
      "metadata": {
        "id": "-c5sVuUMczbJ",
        "colab_type": "code",
        "colab": {}
      },
      "source": [
        "X = dataset[:,0:10]\n",
        "Y = dataset[:,10]"
      ],
      "execution_count": 0,
      "outputs": []
    },
    {
      "cell_type": "code",
      "metadata": {
        "id": "SP7_i0xFc7lh",
        "colab_type": "code",
        "colab": {}
      },
      "source": [
        "from sklearn import preprocessing"
      ],
      "execution_count": 0,
      "outputs": []
    },
    {
      "cell_type": "code",
      "metadata": {
        "id": "aC3TxzXoc-6H",
        "colab_type": "code",
        "colab": {}
      },
      "source": [
        "min_max_scaler = preprocessing.MinMaxScaler()\n",
        "X_scale = min_max_scaler.fit_transform(X)"
      ],
      "execution_count": 0,
      "outputs": []
    },
    {
      "cell_type": "code",
      "metadata": {
        "id": "dB1IreWddBMk",
        "colab_type": "code",
        "colab": {
          "base_uri": "https://localhost:8080/",
          "height": 254
        },
        "outputId": "d8e12dea-d120-4657-cb08-66df8613cd3f"
      },
      "source": [
        "X_scale"
      ],
      "execution_count": 10,
      "outputs": [
        {
          "output_type": "execute_result",
          "data": {
            "text/plain": [
              "array([[0.0334198 , 0.66666667, 0.5       , ..., 0.5       , 0.        ,\n",
              "        0.3864598 ],\n",
              "       [0.03879502, 0.55555556, 0.875     , ..., 0.33333333, 0.33333333,\n",
              "        0.32440056],\n",
              "       [0.04650728, 0.66666667, 0.5       , ..., 0.33333333, 0.33333333,\n",
              "        0.42877292],\n",
              "       ...,\n",
              "       [0.03618687, 0.66666667, 1.        , ..., 0.58333333, 0.66666667,\n",
              "        0.17771509],\n",
              "       [0.03934189, 0.44444444, 0.625     , ..., 0.25      , 0.        ,\n",
              "        0.16925247],\n",
              "       [0.04037019, 0.44444444, 0.625     , ..., 0.33333333, 0.        ,\n",
              "        0.19464034]])"
            ]
          },
          "metadata": {
            "tags": []
          },
          "execution_count": 10
        }
      ]
    },
    {
      "cell_type": "code",
      "metadata": {
        "id": "DLIjsP7QdD45",
        "colab_type": "code",
        "colab": {}
      },
      "source": [
        "from sklearn.model_selection import train_test_split"
      ],
      "execution_count": 0,
      "outputs": []
    },
    {
      "cell_type": "code",
      "metadata": {
        "id": "zfmYMJEOdGzy",
        "colab_type": "code",
        "colab": {}
      },
      "source": [
        "X_train, X_val_and_test, Y_train, Y_val_and_test = train_test_split(X_scale, Y, test_size=0.3)"
      ],
      "execution_count": 0,
      "outputs": []
    },
    {
      "cell_type": "code",
      "metadata": {
        "id": "ywmRWDzSdJQj",
        "colab_type": "code",
        "colab": {}
      },
      "source": [
        "X_val, X_test, Y_val, Y_test = train_test_split(X_val_and_test, Y_val_and_test, test_size=0.5)"
      ],
      "execution_count": 0,
      "outputs": []
    },
    {
      "cell_type": "code",
      "metadata": {
        "id": "I9_1i_pHdLWo",
        "colab_type": "code",
        "colab": {
          "base_uri": "https://localhost:8080/",
          "height": 35
        },
        "outputId": "385f00f5-7d52-4377-f255-8f9d2a8fd61f"
      },
      "source": [
        "print(X_train.shape, X_val.shape, X_test.shape, Y_train.shape, Y_val.shape, Y_test.shape)"
      ],
      "execution_count": 14,
      "outputs": [
        {
          "output_type": "stream",
          "text": [
            "(1022, 10) (219, 10) (219, 10) (1022,) (219,) (219,)\n"
          ],
          "name": "stdout"
        }
      ]
    },
    {
      "cell_type": "code",
      "metadata": {
        "id": "d2IDg1WWdOJy",
        "colab_type": "code",
        "colab": {
          "base_uri": "https://localhost:8080/",
          "height": 83
        },
        "outputId": "82c3fd52-4a6c-46a8-bc9f-733c02c8eabd"
      },
      "source": [
        "from keras.models import Sequential\n",
        "from keras.layers import Dense"
      ],
      "execution_count": 15,
      "outputs": [
        {
          "output_type": "stream",
          "text": [
            "Using TensorFlow backend.\n"
          ],
          "name": "stderr"
        },
        {
          "output_type": "display_data",
          "data": {
            "text/html": [
              "<p style=\"color: red;\">\n",
              "The default version of TensorFlow in Colab will soon switch to TensorFlow 2.x.<br>\n",
              "We recommend you <a href=\"https://www.tensorflow.org/guide/migrate\" target=\"_blank\">upgrade</a> now \n",
              "or ensure your notebook will continue to use TensorFlow 1.x via the <code>%tensorflow_version 1.x</code> magic:\n",
              "<a href=\"https://colab.research.google.com/notebooks/tensorflow_version.ipynb\" target=\"_blank\">more info</a>.</p>\n"
            ],
            "text/plain": [
              "<IPython.core.display.HTML object>"
            ]
          },
          "metadata": {
            "tags": []
          }
        }
      ]
    },
    {
      "cell_type": "code",
      "metadata": {
        "id": "3JN5YeszdR61",
        "colab_type": "code",
        "colab": {
          "base_uri": "https://localhost:8080/",
          "height": 146
        },
        "outputId": "eecb28ea-794c-4171-9d5f-0d6593216434"
      },
      "source": [
        "model = Sequential([\n",
        "    Dense(32, activation='relu', input_shape=(10,)),\n",
        "    Dense(32, activation='relu'),\n",
        "    Dense(1, activation='sigmoid'),\n",
        "])"
      ],
      "execution_count": 16,
      "outputs": [
        {
          "output_type": "stream",
          "text": [
            "WARNING:tensorflow:From /usr/local/lib/python3.6/dist-packages/keras/backend/tensorflow_backend.py:66: The name tf.get_default_graph is deprecated. Please use tf.compat.v1.get_default_graph instead.\n",
            "\n",
            "WARNING:tensorflow:From /usr/local/lib/python3.6/dist-packages/keras/backend/tensorflow_backend.py:541: The name tf.placeholder is deprecated. Please use tf.compat.v1.placeholder instead.\n",
            "\n",
            "WARNING:tensorflow:From /usr/local/lib/python3.6/dist-packages/keras/backend/tensorflow_backend.py:4432: The name tf.random_uniform is deprecated. Please use tf.random.uniform instead.\n",
            "\n"
          ],
          "name": "stdout"
        }
      ]
    },
    {
      "cell_type": "code",
      "metadata": {
        "id": "tohP3J4IdVQI",
        "colab_type": "code",
        "colab": {
          "base_uri": "https://localhost:8080/",
          "height": 165
        },
        "outputId": "900e83ef-142f-4464-e363-1dd61fafaf64"
      },
      "source": [
        "model.compile(optimizer='sgd',\n",
        "              loss='binary_crossentropy',\n",
        "              metrics=['accuracy'])"
      ],
      "execution_count": 17,
      "outputs": [
        {
          "output_type": "stream",
          "text": [
            "WARNING:tensorflow:From /usr/local/lib/python3.6/dist-packages/keras/optimizers.py:793: The name tf.train.Optimizer is deprecated. Please use tf.compat.v1.train.Optimizer instead.\n",
            "\n",
            "WARNING:tensorflow:From /usr/local/lib/python3.6/dist-packages/keras/backend/tensorflow_backend.py:3657: The name tf.log is deprecated. Please use tf.math.log instead.\n",
            "\n",
            "WARNING:tensorflow:From /usr/local/lib/python3.6/dist-packages/tensorflow_core/python/ops/nn_impl.py:183: where (from tensorflow.python.ops.array_ops) is deprecated and will be removed in a future version.\n",
            "Instructions for updating:\n",
            "Use tf.where in 2.0, which has the same broadcast rule as np.where\n"
          ],
          "name": "stdout"
        }
      ]
    },
    {
      "cell_type": "code",
      "metadata": {
        "id": "su5mPoY7dYk-",
        "colab_type": "code",
        "colab": {
          "base_uri": "https://localhost:8080/",
          "height": 1000
        },
        "outputId": "5b1500e2-85e3-4f7d-f9f9-c234ef26505a"
      },
      "source": [
        "hist = model.fit(X_train, Y_train,\n",
        "          batch_size=32, epochs=100,\n",
        "          validation_data=(X_val, Y_val))"
      ],
      "execution_count": 18,
      "outputs": [
        {
          "output_type": "stream",
          "text": [
            "WARNING:tensorflow:From /usr/local/lib/python3.6/dist-packages/keras/backend/tensorflow_backend.py:1033: The name tf.assign_add is deprecated. Please use tf.compat.v1.assign_add instead.\n",
            "\n",
            "WARNING:tensorflow:From /usr/local/lib/python3.6/dist-packages/keras/backend/tensorflow_backend.py:1020: The name tf.assign is deprecated. Please use tf.compat.v1.assign instead.\n",
            "\n",
            "WARNING:tensorflow:From /usr/local/lib/python3.6/dist-packages/keras/backend/tensorflow_backend.py:3005: The name tf.Session is deprecated. Please use tf.compat.v1.Session instead.\n",
            "\n",
            "Train on 1022 samples, validate on 219 samples\n",
            "Epoch 1/100\n",
            "WARNING:tensorflow:From /usr/local/lib/python3.6/dist-packages/keras/backend/tensorflow_backend.py:190: The name tf.get_default_session is deprecated. Please use tf.compat.v1.get_default_session instead.\n",
            "\n",
            "WARNING:tensorflow:From /usr/local/lib/python3.6/dist-packages/keras/backend/tensorflow_backend.py:197: The name tf.ConfigProto is deprecated. Please use tf.compat.v1.ConfigProto instead.\n",
            "\n",
            "WARNING:tensorflow:From /usr/local/lib/python3.6/dist-packages/keras/backend/tensorflow_backend.py:207: The name tf.global_variables is deprecated. Please use tf.compat.v1.global_variables instead.\n",
            "\n",
            "WARNING:tensorflow:From /usr/local/lib/python3.6/dist-packages/keras/backend/tensorflow_backend.py:216: The name tf.is_variable_initialized is deprecated. Please use tf.compat.v1.is_variable_initialized instead.\n",
            "\n",
            "WARNING:tensorflow:From /usr/local/lib/python3.6/dist-packages/keras/backend/tensorflow_backend.py:223: The name tf.variables_initializer is deprecated. Please use tf.compat.v1.variables_initializer instead.\n",
            "\n",
            "1022/1022 [==============================] - 6s 5ms/step - loss: 0.7022 - acc: 0.4041 - val_loss: 0.6918 - val_acc: 0.4840\n",
            "Epoch 2/100\n",
            "1022/1022 [==============================] - 0s 139us/step - loss: 0.6882 - acc: 0.5793 - val_loss: 0.6784 - val_acc: 0.6575\n",
            "Epoch 3/100\n",
            "1022/1022 [==============================] - 0s 174us/step - loss: 0.6769 - acc: 0.6282 - val_loss: 0.6675 - val_acc: 0.6667\n",
            "Epoch 4/100\n",
            "1022/1022 [==============================] - 0s 155us/step - loss: 0.6668 - acc: 0.6243 - val_loss: 0.6580 - val_acc: 0.7078\n",
            "Epoch 5/100\n",
            "1022/1022 [==============================] - 0s 128us/step - loss: 0.6574 - acc: 0.6898 - val_loss: 0.6492 - val_acc: 0.7443\n",
            "Epoch 6/100\n",
            "1022/1022 [==============================] - 0s 138us/step - loss: 0.6484 - acc: 0.7133 - val_loss: 0.6413 - val_acc: 0.7671\n",
            "Epoch 7/100\n",
            "1022/1022 [==============================] - 0s 126us/step - loss: 0.6402 - acc: 0.7417 - val_loss: 0.6342 - val_acc: 0.7854\n",
            "Epoch 8/100\n",
            "1022/1022 [==============================] - 0s 142us/step - loss: 0.6327 - acc: 0.7701 - val_loss: 0.6274 - val_acc: 0.8082\n",
            "Epoch 9/100\n",
            "1022/1022 [==============================] - 0s 135us/step - loss: 0.6255 - acc: 0.7877 - val_loss: 0.6207 - val_acc: 0.8174\n",
            "Epoch 10/100\n",
            "1022/1022 [==============================] - 0s 161us/step - loss: 0.6182 - acc: 0.7896 - val_loss: 0.6141 - val_acc: 0.8174\n",
            "Epoch 11/100\n",
            "1022/1022 [==============================] - 0s 168us/step - loss: 0.6108 - acc: 0.8014 - val_loss: 0.6072 - val_acc: 0.8128\n",
            "Epoch 12/100\n",
            "1022/1022 [==============================] - 0s 143us/step - loss: 0.6034 - acc: 0.7965 - val_loss: 0.6003 - val_acc: 0.8128\n",
            "Epoch 13/100\n",
            "1022/1022 [==============================] - 0s 131us/step - loss: 0.5955 - acc: 0.7994 - val_loss: 0.5932 - val_acc: 0.8037\n",
            "Epoch 14/100\n",
            "1022/1022 [==============================] - 0s 113us/step - loss: 0.5876 - acc: 0.8082 - val_loss: 0.5856 - val_acc: 0.7945\n",
            "Epoch 15/100\n",
            "1022/1022 [==============================] - 0s 120us/step - loss: 0.5793 - acc: 0.8082 - val_loss: 0.5778 - val_acc: 0.7991\n",
            "Epoch 16/100\n",
            "1022/1022 [==============================] - 0s 127us/step - loss: 0.5708 - acc: 0.8053 - val_loss: 0.5698 - val_acc: 0.7991\n",
            "Epoch 17/100\n",
            "1022/1022 [==============================] - 0s 152us/step - loss: 0.5623 - acc: 0.8053 - val_loss: 0.5617 - val_acc: 0.7991\n",
            "Epoch 18/100\n",
            "1022/1022 [==============================] - 0s 167us/step - loss: 0.5536 - acc: 0.8092 - val_loss: 0.5542 - val_acc: 0.7945\n",
            "Epoch 19/100\n",
            "1022/1022 [==============================] - 0s 130us/step - loss: 0.5447 - acc: 0.8121 - val_loss: 0.5465 - val_acc: 0.7808\n",
            "Epoch 20/100\n",
            "1022/1022 [==============================] - 0s 135us/step - loss: 0.5360 - acc: 0.8112 - val_loss: 0.5382 - val_acc: 0.7854\n",
            "Epoch 21/100\n",
            "1022/1022 [==============================] - 0s 129us/step - loss: 0.5270 - acc: 0.8102 - val_loss: 0.5300 - val_acc: 0.7945\n",
            "Epoch 22/100\n",
            "1022/1022 [==============================] - 0s 136us/step - loss: 0.5182 - acc: 0.8151 - val_loss: 0.5219 - val_acc: 0.7991\n",
            "Epoch 23/100\n",
            "1022/1022 [==============================] - 0s 134us/step - loss: 0.5093 - acc: 0.8200 - val_loss: 0.5143 - val_acc: 0.7945\n",
            "Epoch 24/100\n",
            "1022/1022 [==============================] - 0s 137us/step - loss: 0.5007 - acc: 0.8239 - val_loss: 0.5065 - val_acc: 0.7991\n",
            "Epoch 25/100\n",
            "1022/1022 [==============================] - 0s 169us/step - loss: 0.4919 - acc: 0.8249 - val_loss: 0.4992 - val_acc: 0.7900\n",
            "Epoch 26/100\n",
            "1022/1022 [==============================] - 0s 150us/step - loss: 0.4832 - acc: 0.8278 - val_loss: 0.4915 - val_acc: 0.8037\n",
            "Epoch 27/100\n",
            "1022/1022 [==============================] - 0s 140us/step - loss: 0.4747 - acc: 0.8307 - val_loss: 0.4846 - val_acc: 0.7900\n",
            "Epoch 28/100\n",
            "1022/1022 [==============================] - 0s 137us/step - loss: 0.4663 - acc: 0.8327 - val_loss: 0.4769 - val_acc: 0.8037\n",
            "Epoch 29/100\n",
            "1022/1022 [==============================] - 0s 135us/step - loss: 0.4582 - acc: 0.8346 - val_loss: 0.4703 - val_acc: 0.8037\n",
            "Epoch 30/100\n",
            "1022/1022 [==============================] - 0s 124us/step - loss: 0.4504 - acc: 0.8395 - val_loss: 0.4632 - val_acc: 0.8037\n",
            "Epoch 31/100\n",
            "1022/1022 [==============================] - 0s 145us/step - loss: 0.4428 - acc: 0.8405 - val_loss: 0.4571 - val_acc: 0.8037\n",
            "Epoch 32/100\n",
            "1022/1022 [==============================] - 0s 144us/step - loss: 0.4353 - acc: 0.8405 - val_loss: 0.4512 - val_acc: 0.8082\n",
            "Epoch 33/100\n",
            "1022/1022 [==============================] - 0s 152us/step - loss: 0.4281 - acc: 0.8415 - val_loss: 0.4454 - val_acc: 0.8128\n",
            "Epoch 34/100\n",
            "1022/1022 [==============================] - 0s 170us/step - loss: 0.4210 - acc: 0.8493 - val_loss: 0.4400 - val_acc: 0.8128\n",
            "Epoch 35/100\n",
            "1022/1022 [==============================] - 0s 140us/step - loss: 0.4145 - acc: 0.8464 - val_loss: 0.4348 - val_acc: 0.8128\n",
            "Epoch 36/100\n",
            "1022/1022 [==============================] - 0s 139us/step - loss: 0.4075 - acc: 0.8493 - val_loss: 0.4292 - val_acc: 0.8219\n",
            "Epoch 37/100\n",
            "1022/1022 [==============================] - 0s 137us/step - loss: 0.4015 - acc: 0.8503 - val_loss: 0.4245 - val_acc: 0.8174\n",
            "Epoch 38/100\n",
            "1022/1022 [==============================] - 0s 144us/step - loss: 0.3955 - acc: 0.8513 - val_loss: 0.4199 - val_acc: 0.8265\n",
            "Epoch 39/100\n",
            "1022/1022 [==============================] - 0s 156us/step - loss: 0.3897 - acc: 0.8532 - val_loss: 0.4155 - val_acc: 0.8311\n",
            "Epoch 40/100\n",
            "1022/1022 [==============================] - 0s 137us/step - loss: 0.3844 - acc: 0.8571 - val_loss: 0.4111 - val_acc: 0.8356\n",
            "Epoch 41/100\n",
            "1022/1022 [==============================] - 0s 129us/step - loss: 0.3791 - acc: 0.8562 - val_loss: 0.4070 - val_acc: 0.8447\n",
            "Epoch 42/100\n",
            "1022/1022 [==============================] - 0s 132us/step - loss: 0.3737 - acc: 0.8581 - val_loss: 0.4035 - val_acc: 0.8402\n",
            "Epoch 43/100\n",
            "1022/1022 [==============================] - 0s 127us/step - loss: 0.3688 - acc: 0.8630 - val_loss: 0.4002 - val_acc: 0.8311\n",
            "Epoch 44/100\n",
            "1022/1022 [==============================] - 0s 124us/step - loss: 0.3644 - acc: 0.8650 - val_loss: 0.3963 - val_acc: 0.8493\n",
            "Epoch 45/100\n",
            "1022/1022 [==============================] - 0s 143us/step - loss: 0.3600 - acc: 0.8659 - val_loss: 0.3932 - val_acc: 0.8447\n",
            "Epoch 46/100\n",
            "1022/1022 [==============================] - 0s 131us/step - loss: 0.3561 - acc: 0.8630 - val_loss: 0.3901 - val_acc: 0.8493\n",
            "Epoch 47/100\n",
            "1022/1022 [==============================] - 0s 139us/step - loss: 0.3518 - acc: 0.8620 - val_loss: 0.3873 - val_acc: 0.8493\n",
            "Epoch 48/100\n",
            "1022/1022 [==============================] - 0s 127us/step - loss: 0.3480 - acc: 0.8689 - val_loss: 0.3846 - val_acc: 0.8447\n",
            "Epoch 49/100\n",
            "1022/1022 [==============================] - 0s 129us/step - loss: 0.3442 - acc: 0.8689 - val_loss: 0.3824 - val_acc: 0.8493\n",
            "Epoch 50/100\n",
            "1022/1022 [==============================] - 0s 143us/step - loss: 0.3411 - acc: 0.8708 - val_loss: 0.3797 - val_acc: 0.8584\n",
            "Epoch 51/100\n",
            "1022/1022 [==============================] - 0s 134us/step - loss: 0.3380 - acc: 0.8699 - val_loss: 0.3776 - val_acc: 0.8402\n",
            "Epoch 52/100\n",
            "1022/1022 [==============================] - 0s 134us/step - loss: 0.3347 - acc: 0.8738 - val_loss: 0.3754 - val_acc: 0.8584\n",
            "Epoch 53/100\n",
            "1022/1022 [==============================] - 0s 123us/step - loss: 0.3320 - acc: 0.8679 - val_loss: 0.3734 - val_acc: 0.8539\n",
            "Epoch 54/100\n",
            "1022/1022 [==============================] - 0s 134us/step - loss: 0.3293 - acc: 0.8738 - val_loss: 0.3715 - val_acc: 0.8539\n",
            "Epoch 55/100\n",
            "1022/1022 [==============================] - 0s 160us/step - loss: 0.3269 - acc: 0.8708 - val_loss: 0.3698 - val_acc: 0.8539\n",
            "Epoch 56/100\n",
            "1022/1022 [==============================] - 0s 148us/step - loss: 0.3238 - acc: 0.8748 - val_loss: 0.3681 - val_acc: 0.8539\n",
            "Epoch 57/100\n",
            "1022/1022 [==============================] - 0s 137us/step - loss: 0.3216 - acc: 0.8728 - val_loss: 0.3675 - val_acc: 0.8630\n",
            "Epoch 58/100\n",
            "1022/1022 [==============================] - 0s 143us/step - loss: 0.3193 - acc: 0.8748 - val_loss: 0.3650 - val_acc: 0.8584\n",
            "Epoch 59/100\n",
            "1022/1022 [==============================] - 0s 151us/step - loss: 0.3172 - acc: 0.8728 - val_loss: 0.3636 - val_acc: 0.8584\n",
            "Epoch 60/100\n",
            "1022/1022 [==============================] - 0s 127us/step - loss: 0.3153 - acc: 0.8748 - val_loss: 0.3622 - val_acc: 0.8630\n",
            "Epoch 61/100\n",
            "1022/1022 [==============================] - 0s 132us/step - loss: 0.3136 - acc: 0.8757 - val_loss: 0.3609 - val_acc: 0.8630\n",
            "Epoch 62/100\n",
            "1022/1022 [==============================] - 0s 159us/step - loss: 0.3119 - acc: 0.8738 - val_loss: 0.3607 - val_acc: 0.8630\n",
            "Epoch 63/100\n",
            "1022/1022 [==============================] - 0s 150us/step - loss: 0.3096 - acc: 0.8757 - val_loss: 0.3585 - val_acc: 0.8676\n",
            "Epoch 64/100\n",
            "1022/1022 [==============================] - 0s 136us/step - loss: 0.3079 - acc: 0.8728 - val_loss: 0.3575 - val_acc: 0.8676\n",
            "Epoch 65/100\n",
            "1022/1022 [==============================] - 0s 131us/step - loss: 0.3066 - acc: 0.8757 - val_loss: 0.3564 - val_acc: 0.8721\n",
            "Epoch 66/100\n",
            "1022/1022 [==============================] - 0s 146us/step - loss: 0.3050 - acc: 0.8748 - val_loss: 0.3559 - val_acc: 0.8676\n",
            "Epoch 67/100\n",
            "1022/1022 [==============================] - 0s 125us/step - loss: 0.3033 - acc: 0.8777 - val_loss: 0.3544 - val_acc: 0.8721\n",
            "Epoch 68/100\n",
            "1022/1022 [==============================] - 0s 144us/step - loss: 0.3023 - acc: 0.8757 - val_loss: 0.3534 - val_acc: 0.8721\n",
            "Epoch 69/100\n",
            "1022/1022 [==============================] - 0s 150us/step - loss: 0.3007 - acc: 0.8787 - val_loss: 0.3527 - val_acc: 0.8721\n",
            "Epoch 70/100\n",
            "1022/1022 [==============================] - 0s 137us/step - loss: 0.2993 - acc: 0.8728 - val_loss: 0.3520 - val_acc: 0.8721\n",
            "Epoch 71/100\n",
            "1022/1022 [==============================] - 0s 122us/step - loss: 0.2982 - acc: 0.8738 - val_loss: 0.3510 - val_acc: 0.8767\n",
            "Epoch 72/100\n",
            "1022/1022 [==============================] - 0s 133us/step - loss: 0.2964 - acc: 0.8777 - val_loss: 0.3513 - val_acc: 0.8676\n",
            "Epoch 73/100\n",
            "1022/1022 [==============================] - 0s 133us/step - loss: 0.2954 - acc: 0.8748 - val_loss: 0.3493 - val_acc: 0.8767\n",
            "Epoch 74/100\n",
            "1022/1022 [==============================] - 0s 146us/step - loss: 0.2941 - acc: 0.8748 - val_loss: 0.3486 - val_acc: 0.8813\n",
            "Epoch 75/100\n",
            "1022/1022 [==============================] - 0s 140us/step - loss: 0.2934 - acc: 0.8796 - val_loss: 0.3488 - val_acc: 0.8767\n",
            "Epoch 76/100\n",
            "1022/1022 [==============================] - 0s 152us/step - loss: 0.2929 - acc: 0.8738 - val_loss: 0.3488 - val_acc: 0.8767\n",
            "Epoch 77/100\n",
            "1022/1022 [==============================] - 0s 164us/step - loss: 0.2913 - acc: 0.8777 - val_loss: 0.3469 - val_acc: 0.8767\n",
            "Epoch 78/100\n",
            "1022/1022 [==============================] - 0s 169us/step - loss: 0.2904 - acc: 0.8757 - val_loss: 0.3470 - val_acc: 0.8767\n",
            "Epoch 79/100\n",
            "1022/1022 [==============================] - 0s 155us/step - loss: 0.2901 - acc: 0.8777 - val_loss: 0.3470 - val_acc: 0.8813\n",
            "Epoch 80/100\n",
            "1022/1022 [==============================] - 0s 161us/step - loss: 0.2884 - acc: 0.8777 - val_loss: 0.3466 - val_acc: 0.8813\n",
            "Epoch 81/100\n",
            "1022/1022 [==============================] - 0s 156us/step - loss: 0.2872 - acc: 0.8748 - val_loss: 0.3443 - val_acc: 0.8813\n",
            "Epoch 82/100\n",
            "1022/1022 [==============================] - 0s 139us/step - loss: 0.2867 - acc: 0.8777 - val_loss: 0.3442 - val_acc: 0.8767\n",
            "Epoch 83/100\n",
            "1022/1022 [==============================] - 0s 171us/step - loss: 0.2862 - acc: 0.8826 - val_loss: 0.3433 - val_acc: 0.8813\n",
            "Epoch 84/100\n",
            "1022/1022 [==============================] - 0s 148us/step - loss: 0.2847 - acc: 0.8796 - val_loss: 0.3443 - val_acc: 0.8813\n",
            "Epoch 85/100\n",
            "1022/1022 [==============================] - 0s 129us/step - loss: 0.2849 - acc: 0.8806 - val_loss: 0.3440 - val_acc: 0.8813\n",
            "Epoch 86/100\n",
            "1022/1022 [==============================] - 0s 115us/step - loss: 0.2834 - acc: 0.8796 - val_loss: 0.3420 - val_acc: 0.8813\n",
            "Epoch 87/100\n",
            "1022/1022 [==============================] - 0s 167us/step - loss: 0.2820 - acc: 0.8787 - val_loss: 0.3436 - val_acc: 0.8813\n",
            "Epoch 88/100\n",
            "1022/1022 [==============================] - 0s 139us/step - loss: 0.2812 - acc: 0.8816 - val_loss: 0.3403 - val_acc: 0.8767\n",
            "Epoch 89/100\n",
            "1022/1022 [==============================] - 0s 132us/step - loss: 0.2805 - acc: 0.8796 - val_loss: 0.3399 - val_acc: 0.8767\n",
            "Epoch 90/100\n",
            "1022/1022 [==============================] - 0s 150us/step - loss: 0.2806 - acc: 0.8787 - val_loss: 0.3419 - val_acc: 0.8858\n",
            "Epoch 91/100\n",
            "1022/1022 [==============================] - 0s 152us/step - loss: 0.2792 - acc: 0.8806 - val_loss: 0.3390 - val_acc: 0.8767\n",
            "Epoch 92/100\n",
            "1022/1022 [==============================] - 0s 158us/step - loss: 0.2786 - acc: 0.8796 - val_loss: 0.3420 - val_acc: 0.8813\n",
            "Epoch 93/100\n",
            "1022/1022 [==============================] - 0s 149us/step - loss: 0.2781 - acc: 0.8816 - val_loss: 0.3388 - val_acc: 0.8813\n",
            "Epoch 94/100\n",
            "1022/1022 [==============================] - 0s 153us/step - loss: 0.2774 - acc: 0.8806 - val_loss: 0.3398 - val_acc: 0.8858\n",
            "Epoch 95/100\n",
            "1022/1022 [==============================] - 0s 135us/step - loss: 0.2769 - acc: 0.8836 - val_loss: 0.3389 - val_acc: 0.8904\n",
            "Epoch 96/100\n",
            "1022/1022 [==============================] - 0s 128us/step - loss: 0.2761 - acc: 0.8796 - val_loss: 0.3368 - val_acc: 0.8767\n",
            "Epoch 97/100\n",
            "1022/1022 [==============================] - 0s 147us/step - loss: 0.2732 - acc: 0.8796 - val_loss: 0.3363 - val_acc: 0.8767\n",
            "Epoch 98/100\n",
            "1022/1022 [==============================] - 0s 150us/step - loss: 0.2745 - acc: 0.8816 - val_loss: 0.3377 - val_acc: 0.8858\n",
            "Epoch 99/100\n",
            "1022/1022 [==============================] - 0s 153us/step - loss: 0.2742 - acc: 0.8816 - val_loss: 0.3356 - val_acc: 0.8813\n",
            "Epoch 100/100\n",
            "1022/1022 [==============================] - 0s 180us/step - loss: 0.2736 - acc: 0.8826 - val_loss: 0.3366 - val_acc: 0.8858\n"
          ],
          "name": "stdout"
        }
      ]
    },
    {
      "cell_type": "code",
      "metadata": {
        "id": "0TdT_QKtdbAv",
        "colab_type": "code",
        "colab": {
          "base_uri": "https://localhost:8080/",
          "height": 54
        },
        "outputId": "b6a5d9b1-22d9-4248-9b63-a2ed9f9df549"
      },
      "source": [
        "\n",
        "model.evaluate(X_test, Y_test)[1]"
      ],
      "execution_count": 19,
      "outputs": [
        {
          "output_type": "stream",
          "text": [
            "219/219 [==============================] - 0s 111us/step\n"
          ],
          "name": "stdout"
        },
        {
          "output_type": "execute_result",
          "data": {
            "text/plain": [
              "0.8858447469532762"
            ]
          },
          "metadata": {
            "tags": []
          },
          "execution_count": 19
        }
      ]
    },
    {
      "cell_type": "code",
      "metadata": {
        "id": "Sn4RHdmHdkDO",
        "colab_type": "code",
        "colab": {}
      },
      "source": [
        "import matplotlib.pyplot as plt"
      ],
      "execution_count": 0,
      "outputs": []
    },
    {
      "cell_type": "code",
      "metadata": {
        "id": "re0fgiiadmO1",
        "colab_type": "code",
        "colab": {
          "base_uri": "https://localhost:8080/",
          "height": 295
        },
        "outputId": "7d7693c6-3658-4d43-8a2b-e37e4ca81cff"
      },
      "source": [
        "plt.plot(hist.history['loss'])\n",
        "plt.plot(hist.history['val_loss'])\n",
        "plt.title('Model loss')\n",
        "plt.ylabel('Loss')\n",
        "plt.xlabel('Epoch')\n",
        "plt.legend(['Train', 'Val'], loc='upper right')\n",
        "plt.show()"
      ],
      "execution_count": 21,
      "outputs": [
        {
          "output_type": "display_data",
          "data": {
            "image/png": "[encoded data removed]",
            "text/plain": [
              "<Figure size 432x288 with 1 Axes>"
            ]
          },
          "metadata": {
            "tags": []
          }
        }
      ]
    },
    {
      "cell_type": "code",
      "metadata": {
        "id": "n-K7Y4GKdn-f",
        "colab_type": "code",
        "colab": {
          "base_uri": "https://localhost:8080/",
          "height": 295
        },
        "outputId": "ff46a4f6-e644-4bd3-81e8-ca1636ca00a3"
      },
      "source": [
        "\n",
        "plt.plot(hist.history['acc'])\n",
        "plt.plot(hist.history['val_acc'])\n",
        "plt.title('Model accuracy')\n",
        "plt.ylabel('Accuracy')\n",
        "plt.xlabel('Epoch')\n",
        "plt.legend(['Train', 'Val'], loc='lower right')\n",
        "plt.show()"
      ],
      "execution_count": 22,
      "outputs": [
        {
          "output_type": "display_data",
          "data": {
            "image/png": "[encoded data removed]",
            "text/plain": [
              "<Figure size 432x288 with 1 Axes>"
            ]
          },
          "metadata": {
            "tags": []
          }
        }
      ]
    },
    {
      "cell_type": "code",
      "metadata": {
        "id": "IJ5oR2j1dvE4",
        "colab_type": "code",
        "colab": {
          "base_uri": "https://localhost:8080/",
          "height": 1000
        },
        "outputId": "d39dc8d6-2ce0-452d-a362-b1271fe50935"
      },
      "source": [
        "\n",
        "model_2 = Sequential([\n",
        "    Dense(1000, activation='relu', input_shape=(10,)),\n",
        "    Dense(1000, activation='relu'),\n",
        "    Dense(1000, activation='relu'),\n",
        "    Dense(1000, activation='relu'),\n",
        "    Dense(1, activation='sigmoid'),\n",
        "])\n",
        "model_2.compile(optimizer='adam',\n",
        "              loss='binary_crossentropy',\n",
        "              metrics=['accuracy'])\n",
        "hist_2 = model_2.fit(X_train, Y_train,\n",
        "          batch_size=32, epochs=100,\n",
        "          validation_data=(X_val, Y_val))"
      ],
      "execution_count": 23,
      "outputs": [
        {
          "output_type": "stream",
          "text": [
            "Train on 1022 samples, validate on 219 samples\n",
            "Epoch 1/100\n",
            "1022/1022 [==============================] - 1s 660us/step - loss: 0.4904 - acc: 0.7818 - val_loss: 0.3972 - val_acc: 0.8219\n",
            "Epoch 2/100\n",
            "1022/1022 [==============================] - 0s 202us/step - loss: 0.3360 - acc: 0.8620 - val_loss: 0.4316 - val_acc: 0.8311\n",
            "Epoch 3/100\n",
            "1022/1022 [==============================] - 0s 250us/step - loss: 0.2927 - acc: 0.8699 - val_loss: 0.3489 - val_acc: 0.8584\n",
            "Epoch 4/100\n",
            "1022/1022 [==============================] - 0s 243us/step - loss: 0.2777 - acc: 0.8836 - val_loss: 0.3621 - val_acc: 0.8584\n",
            "Epoch 5/100\n",
            "1022/1022 [==============================] - 0s 216us/step - loss: 0.2586 - acc: 0.8708 - val_loss: 0.3815 - val_acc: 0.8676\n",
            "Epoch 6/100\n",
            "1022/1022 [==============================] - 0s 214us/step - loss: 0.2618 - acc: 0.8865 - val_loss: 0.6299 - val_acc: 0.8447\n",
            "Epoch 7/100\n",
            "1022/1022 [==============================] - 0s 211us/step - loss: 0.3526 - acc: 0.8523 - val_loss: 0.4250 - val_acc: 0.8630\n",
            "Epoch 8/100\n",
            "1022/1022 [==============================] - 0s 226us/step - loss: 0.2533 - acc: 0.8894 - val_loss: 0.3681 - val_acc: 0.8767\n",
            "Epoch 9/100\n",
            "1022/1022 [==============================] - 0s 216us/step - loss: 0.2273 - acc: 0.9002 - val_loss: 0.3198 - val_acc: 0.9041\n",
            "Epoch 10/100\n",
            "1022/1022 [==============================] - 0s 187us/step - loss: 0.2333 - acc: 0.9022 - val_loss: 0.4088 - val_acc: 0.8219\n",
            "Epoch 11/100\n",
            "1022/1022 [==============================] - 0s 190us/step - loss: 0.2388 - acc: 0.8992 - val_loss: 0.3659 - val_acc: 0.8858\n",
            "Epoch 12/100\n",
            "1022/1022 [==============================] - 0s 199us/step - loss: 0.2339 - acc: 0.9031 - val_loss: 0.3532 - val_acc: 0.8676\n",
            "Epoch 13/100\n",
            "1022/1022 [==============================] - 0s 247us/step - loss: 0.2375 - acc: 0.8992 - val_loss: 0.3574 - val_acc: 0.8904\n",
            "Epoch 14/100\n",
            "1022/1022 [==============================] - 0s 216us/step - loss: 0.2128 - acc: 0.9090 - val_loss: 0.3356 - val_acc: 0.8950\n",
            "Epoch 15/100\n",
            "1022/1022 [==============================] - 0s 222us/step - loss: 0.2132 - acc: 0.9061 - val_loss: 0.3592 - val_acc: 0.8858\n",
            "Epoch 16/100\n",
            "1022/1022 [==============================] - 0s 203us/step - loss: 0.2119 - acc: 0.9080 - val_loss: 0.3191 - val_acc: 0.9087\n",
            "Epoch 17/100\n",
            "1022/1022 [==============================] - 0s 222us/step - loss: 0.2133 - acc: 0.9080 - val_loss: 0.3536 - val_acc: 0.8858\n",
            "Epoch 18/100\n",
            "1022/1022 [==============================] - 0s 223us/step - loss: 0.2282 - acc: 0.9002 - val_loss: 0.3556 - val_acc: 0.8904\n",
            "Epoch 19/100\n",
            "1022/1022 [==============================] - 0s 200us/step - loss: 0.2055 - acc: 0.9070 - val_loss: 0.3181 - val_acc: 0.9178\n",
            "Epoch 20/100\n",
            "1022/1022 [==============================] - 0s 210us/step - loss: 0.1992 - acc: 0.9139 - val_loss: 0.3282 - val_acc: 0.9087\n",
            "Epoch 21/100\n",
            "1022/1022 [==============================] - 0s 208us/step - loss: 0.2270 - acc: 0.9061 - val_loss: 0.4464 - val_acc: 0.8676\n",
            "Epoch 22/100\n",
            "1022/1022 [==============================] - 0s 223us/step - loss: 0.2196 - acc: 0.9061 - val_loss: 0.3270 - val_acc: 0.8995\n",
            "Epoch 23/100\n",
            "1022/1022 [==============================] - 0s 206us/step - loss: 0.1958 - acc: 0.9178 - val_loss: 0.3302 - val_acc: 0.9041\n",
            "Epoch 24/100\n",
            "1022/1022 [==============================] - 0s 202us/step - loss: 0.1883 - acc: 0.9188 - val_loss: 0.3535 - val_acc: 0.8813\n",
            "Epoch 25/100\n",
            "1022/1022 [==============================] - 0s 193us/step - loss: 0.1903 - acc: 0.9305 - val_loss: 0.3311 - val_acc: 0.8904\n",
            "Epoch 26/100\n",
            "1022/1022 [==============================] - 0s 195us/step - loss: 0.1909 - acc: 0.9237 - val_loss: 0.3640 - val_acc: 0.8858\n",
            "Epoch 27/100\n",
            "1022/1022 [==============================] - 0s 225us/step - loss: 0.2081 - acc: 0.9090 - val_loss: 0.3246 - val_acc: 0.9087\n",
            "Epoch 28/100\n",
            "1022/1022 [==============================] - 0s 225us/step - loss: 0.1950 - acc: 0.9178 - val_loss: 0.3518 - val_acc: 0.9087\n",
            "Epoch 29/100\n",
            "1022/1022 [==============================] - 0s 199us/step - loss: 0.1825 - acc: 0.9247 - val_loss: 0.3351 - val_acc: 0.8995\n",
            "Epoch 30/100\n",
            "1022/1022 [==============================] - 0s 198us/step - loss: 0.1866 - acc: 0.9256 - val_loss: 0.3316 - val_acc: 0.9041\n",
            "Epoch 31/100\n",
            "1022/1022 [==============================] - 0s 177us/step - loss: 0.1832 - acc: 0.9207 - val_loss: 0.3401 - val_acc: 0.9178\n",
            "Epoch 32/100\n",
            "1022/1022 [==============================] - 0s 222us/step - loss: 0.1983 - acc: 0.9149 - val_loss: 0.3888 - val_acc: 0.8676\n",
            "Epoch 33/100\n",
            "1022/1022 [==============================] - 0s 197us/step - loss: 0.1998 - acc: 0.9149 - val_loss: 0.3341 - val_acc: 0.8904\n",
            "Epoch 34/100\n",
            "1022/1022 [==============================] - 0s 240us/step - loss: 0.1924 - acc: 0.9168 - val_loss: 0.3312 - val_acc: 0.9132\n",
            "Epoch 35/100\n",
            "1022/1022 [==============================] - 0s 240us/step - loss: 0.1728 - acc: 0.9247 - val_loss: 0.3572 - val_acc: 0.9087\n",
            "Epoch 36/100\n",
            "1022/1022 [==============================] - 0s 229us/step - loss: 0.1653 - acc: 0.9266 - val_loss: 0.3647 - val_acc: 0.8950\n",
            "Epoch 37/100\n",
            "1022/1022 [==============================] - 0s 231us/step - loss: 0.1740 - acc: 0.9286 - val_loss: 0.3548 - val_acc: 0.8904\n",
            "Epoch 38/100\n",
            "1022/1022 [==============================] - 0s 220us/step - loss: 0.1657 - acc: 0.9198 - val_loss: 0.3890 - val_acc: 0.8721\n",
            "Epoch 39/100\n",
            "1022/1022 [==============================] - 0s 237us/step - loss: 0.2074 - acc: 0.8992 - val_loss: 0.3625 - val_acc: 0.8950\n",
            "Epoch 40/100\n",
            "1022/1022 [==============================] - 0s 237us/step - loss: 0.1843 - acc: 0.9207 - val_loss: 0.3457 - val_acc: 0.9041\n",
            "Epoch 41/100\n",
            "1022/1022 [==============================] - 0s 227us/step - loss: 0.1777 - acc: 0.9247 - val_loss: 0.3321 - val_acc: 0.9087\n",
            "Epoch 42/100\n",
            "1022/1022 [==============================] - 0s 217us/step - loss: 0.2025 - acc: 0.9168 - val_loss: 0.3524 - val_acc: 0.8995\n",
            "Epoch 43/100\n",
            "1022/1022 [==============================] - 0s 229us/step - loss: 0.1847 - acc: 0.9286 - val_loss: 0.3895 - val_acc: 0.8904\n",
            "Epoch 44/100\n",
            "1022/1022 [==============================] - 0s 231us/step - loss: 0.1666 - acc: 0.9295 - val_loss: 0.3338 - val_acc: 0.9087\n",
            "Epoch 45/100\n",
            "1022/1022 [==============================] - 0s 237us/step - loss: 0.1685 - acc: 0.9237 - val_loss: 0.3588 - val_acc: 0.9224\n",
            "Epoch 46/100\n",
            "1022/1022 [==============================] - 0s 204us/step - loss: 0.1586 - acc: 0.9295 - val_loss: 0.3495 - val_acc: 0.9178\n",
            "Epoch 47/100\n",
            "1022/1022 [==============================] - 0s 183us/step - loss: 0.1655 - acc: 0.9286 - val_loss: 0.3642 - val_acc: 0.9224\n",
            "Epoch 48/100\n",
            "1022/1022 [==============================] - 0s 194us/step - loss: 0.1862 - acc: 0.9237 - val_loss: 0.3757 - val_acc: 0.8721\n",
            "Epoch 49/100\n",
            "1022/1022 [==============================] - 0s 191us/step - loss: 0.1516 - acc: 0.9354 - val_loss: 0.4110 - val_acc: 0.8767\n",
            "Epoch 50/100\n",
            "1022/1022 [==============================] - 0s 204us/step - loss: 0.1568 - acc: 0.9364 - val_loss: 0.3802 - val_acc: 0.8904\n",
            "Epoch 51/100\n",
            "1022/1022 [==============================] - 0s 203us/step - loss: 0.1822 - acc: 0.9217 - val_loss: 0.4488 - val_acc: 0.8858\n",
            "Epoch 52/100\n",
            "1022/1022 [==============================] - 0s 191us/step - loss: 0.1623 - acc: 0.9354 - val_loss: 0.3425 - val_acc: 0.9087\n",
            "Epoch 53/100\n",
            "1022/1022 [==============================] - 0s 206us/step - loss: 0.1586 - acc: 0.9374 - val_loss: 0.3542 - val_acc: 0.8995\n",
            "Epoch 54/100\n",
            "1022/1022 [==============================] - 0s 197us/step - loss: 0.1512 - acc: 0.9364 - val_loss: 0.3690 - val_acc: 0.8767\n",
            "Epoch 55/100\n",
            "1022/1022 [==============================] - 0s 223us/step - loss: 0.1554 - acc: 0.9305 - val_loss: 0.4004 - val_acc: 0.8813\n",
            "Epoch 56/100\n",
            "1022/1022 [==============================] - 0s 194us/step - loss: 0.1703 - acc: 0.9256 - val_loss: 0.4229 - val_acc: 0.8447\n",
            "Epoch 57/100\n",
            "1022/1022 [==============================] - 0s 205us/step - loss: 0.1433 - acc: 0.9413 - val_loss: 0.4114 - val_acc: 0.8950\n",
            "Epoch 58/100\n",
            "1022/1022 [==============================] - 0s 258us/step - loss: 0.1648 - acc: 0.9305 - val_loss: 0.4082 - val_acc: 0.9132\n",
            "Epoch 59/100\n",
            "1022/1022 [==============================] - 0s 225us/step - loss: 0.1435 - acc: 0.9354 - val_loss: 0.4166 - val_acc: 0.8858\n",
            "Epoch 60/100\n",
            "1022/1022 [==============================] - 0s 197us/step - loss: 0.1543 - acc: 0.9364 - val_loss: 0.3907 - val_acc: 0.8950\n",
            "Epoch 61/100\n",
            "1022/1022 [==============================] - 0s 187us/step - loss: 0.1425 - acc: 0.9384 - val_loss: 0.3843 - val_acc: 0.8813\n",
            "Epoch 62/100\n",
            "1022/1022 [==============================] - 0s 191us/step - loss: 0.1447 - acc: 0.9344 - val_loss: 0.4182 - val_acc: 0.8858\n",
            "Epoch 63/100\n",
            "1022/1022 [==============================] - 0s 204us/step - loss: 0.1626 - acc: 0.9266 - val_loss: 0.3853 - val_acc: 0.9087\n",
            "Epoch 64/100\n",
            "1022/1022 [==============================] - 0s 191us/step - loss: 0.1784 - acc: 0.9188 - val_loss: 0.3635 - val_acc: 0.9087\n",
            "Epoch 65/100\n",
            "1022/1022 [==============================] - 0s 197us/step - loss: 0.1526 - acc: 0.9325 - val_loss: 0.3831 - val_acc: 0.9132\n",
            "Epoch 66/100\n",
            "1022/1022 [==============================] - 0s 197us/step - loss: 0.1784 - acc: 0.9237 - val_loss: 0.3716 - val_acc: 0.8904\n",
            "Epoch 67/100\n",
            "1022/1022 [==============================] - 0s 191us/step - loss: 0.1445 - acc: 0.9384 - val_loss: 0.3837 - val_acc: 0.9132\n",
            "Epoch 68/100\n",
            "1022/1022 [==============================] - 0s 202us/step - loss: 0.1532 - acc: 0.9364 - val_loss: 0.4117 - val_acc: 0.8950\n",
            "Epoch 69/100\n",
            "1022/1022 [==============================] - 0s 197us/step - loss: 0.1334 - acc: 0.9393 - val_loss: 0.4428 - val_acc: 0.8904\n",
            "Epoch 70/100\n",
            "1022/1022 [==============================] - 0s 187us/step - loss: 0.1393 - acc: 0.9354 - val_loss: 0.4744 - val_acc: 0.8904\n",
            "Epoch 71/100\n",
            "1022/1022 [==============================] - 0s 224us/step - loss: 0.1361 - acc: 0.9432 - val_loss: 0.3955 - val_acc: 0.8904\n",
            "Epoch 72/100\n",
            "1022/1022 [==============================] - 0s 232us/step - loss: 0.1265 - acc: 0.9472 - val_loss: 0.4638 - val_acc: 0.8767\n",
            "Epoch 73/100\n",
            "1022/1022 [==============================] - 0s 218us/step - loss: 0.1200 - acc: 0.9501 - val_loss: 0.4973 - val_acc: 0.8493\n",
            "Epoch 74/100\n",
            "1022/1022 [==============================] - 0s 209us/step - loss: 0.1388 - acc: 0.9413 - val_loss: 0.3950 - val_acc: 0.8995\n",
            "Epoch 75/100\n",
            "1022/1022 [==============================] - 0s 185us/step - loss: 0.1521 - acc: 0.9335 - val_loss: 0.4455 - val_acc: 0.8858\n",
            "Epoch 76/100\n",
            "1022/1022 [==============================] - 0s 229us/step - loss: 0.1453 - acc: 0.9354 - val_loss: 0.5443 - val_acc: 0.8584\n",
            "Epoch 77/100\n",
            "1022/1022 [==============================] - 0s 243us/step - loss: 0.1243 - acc: 0.9423 - val_loss: 0.4471 - val_acc: 0.8858\n",
            "Epoch 78/100\n",
            "1022/1022 [==============================] - 0s 222us/step - loss: 0.1274 - acc: 0.9364 - val_loss: 0.4217 - val_acc: 0.9087\n",
            "Epoch 79/100\n",
            "1022/1022 [==============================] - 0s 212us/step - loss: 0.1202 - acc: 0.9403 - val_loss: 0.6520 - val_acc: 0.8584\n",
            "Epoch 80/100\n",
            "1022/1022 [==============================] - 0s 189us/step - loss: 0.1272 - acc: 0.9452 - val_loss: 0.4199 - val_acc: 0.9087\n",
            "Epoch 81/100\n",
            "1022/1022 [==============================] - 0s 197us/step - loss: 0.1314 - acc: 0.9423 - val_loss: 0.4365 - val_acc: 0.9087\n",
            "Epoch 82/100\n",
            "1022/1022 [==============================] - 0s 208us/step - loss: 0.1112 - acc: 0.9491 - val_loss: 0.4369 - val_acc: 0.9041\n",
            "Epoch 83/100\n",
            "1022/1022 [==============================] - 0s 181us/step - loss: 0.1444 - acc: 0.9423 - val_loss: 0.4553 - val_acc: 0.8858\n",
            "Epoch 84/100\n",
            "1022/1022 [==============================] - 0s 201us/step - loss: 0.1328 - acc: 0.9384 - val_loss: 0.4175 - val_acc: 0.8995\n",
            "Epoch 85/100\n",
            "1022/1022 [==============================] - 0s 205us/step - loss: 0.1119 - acc: 0.9481 - val_loss: 0.4956 - val_acc: 0.8767\n",
            "Epoch 86/100\n",
            "1022/1022 [==============================] - 0s 229us/step - loss: 0.1438 - acc: 0.9384 - val_loss: 0.4406 - val_acc: 0.8950\n",
            "Epoch 87/100\n",
            "1022/1022 [==============================] - 0s 253us/step - loss: 0.1634 - acc: 0.9286 - val_loss: 0.4087 - val_acc: 0.8721\n",
            "Epoch 88/100\n",
            "1022/1022 [==============================] - 0s 199us/step - loss: 0.1529 - acc: 0.9344 - val_loss: 0.3771 - val_acc: 0.8858\n",
            "Epoch 89/100\n",
            "1022/1022 [==============================] - 0s 198us/step - loss: 0.1353 - acc: 0.9432 - val_loss: 0.4028 - val_acc: 0.9132\n",
            "Epoch 90/100\n",
            "1022/1022 [==============================] - 0s 204us/step - loss: 0.1073 - acc: 0.9589 - val_loss: 0.4762 - val_acc: 0.8904\n",
            "Epoch 91/100\n",
            "1022/1022 [==============================] - 0s 223us/step - loss: 0.1040 - acc: 0.9550 - val_loss: 0.4481 - val_acc: 0.8950\n",
            "Epoch 92/100\n",
            "1022/1022 [==============================] - 0s 222us/step - loss: 0.1014 - acc: 0.9589 - val_loss: 0.4773 - val_acc: 0.8858\n",
            "Epoch 93/100\n",
            "1022/1022 [==============================] - 0s 215us/step - loss: 0.1233 - acc: 0.9393 - val_loss: 0.4348 - val_acc: 0.8950\n",
            "Epoch 94/100\n",
            "1022/1022 [==============================] - 0s 200us/step - loss: 0.1304 - acc: 0.9540 - val_loss: 0.4658 - val_acc: 0.9178\n",
            "Epoch 95/100\n",
            "1022/1022 [==============================] - 0s 225us/step - loss: 0.1641 - acc: 0.9207 - val_loss: 0.4454 - val_acc: 0.8813\n",
            "Epoch 96/100\n",
            "1022/1022 [==============================] - 0s 245us/step - loss: 0.1359 - acc: 0.9423 - val_loss: 0.4155 - val_acc: 0.8995\n",
            "Epoch 97/100\n",
            "1022/1022 [==============================] - 0s 199us/step - loss: 0.1355 - acc: 0.9481 - val_loss: 0.4523 - val_acc: 0.9132\n",
            "Epoch 98/100\n",
            "1022/1022 [==============================] - 0s 182us/step - loss: 0.1181 - acc: 0.9511 - val_loss: 0.4841 - val_acc: 0.8721\n",
            "Epoch 99/100\n",
            "1022/1022 [==============================] - 0s 205us/step - loss: 0.1058 - acc: 0.9550 - val_loss: 0.4611 - val_acc: 0.8995\n",
            "Epoch 100/100\n",
            "1022/1022 [==============================] - 0s 221us/step - loss: 0.0882 - acc: 0.9628 - val_loss: 0.5574 - val_acc: 0.9041\n"
          ],
          "name": "stdout"
        }
      ]
    },
    {
      "cell_type": "code",
      "metadata": {
        "id": "fornGXWwdxyx",
        "colab_type": "code",
        "colab": {
          "base_uri": "https://localhost:8080/",
          "height": 295
        },
        "outputId": "70439cba-065c-43d9-db44-64343b4fd619"
      },
      "source": [
        "plt.plot(hist_2.history['loss'])\n",
        "plt.plot(hist_2.history['val_loss'])\n",
        "plt.title('Model loss')\n",
        "plt.ylabel('Loss')\n",
        "plt.xlabel('Epoch')\n",
        "plt.legend(['Train', 'Val'], loc='upper right')\n",
        "plt.show()"
      ],
      "execution_count": 24,
      "outputs": [
        {
          "output_type": "display_data",
          "data": {
            "image/png": "[encoded data removed]",
            "text/plain": [
              "<Figure size 432x288 with 1 Axes>"
            ]
          },
          "metadata": {
            "tags": []
          }
        }
      ]
    },
    {
      "cell_type": "code",
      "metadata": {
        "id": "K7RDxT8Bd42P",
        "colab_type": "code",
        "colab": {
          "base_uri": "https://localhost:8080/",
          "height": 295
        },
        "outputId": "33fac5bb-09a6-418c-aea7-8c0886941eb7"
      },
      "source": [
        "\n",
        "plt.plot(hist_2.history['acc'])\n",
        "plt.plot(hist_2.history['val_acc'])\n",
        "plt.title('Model accuracy')\n",
        "plt.ylabel('Accuracy')\n",
        "plt.xlabel('Epoch')\n",
        "plt.legend(['Train', 'Val'], loc='lower right')\n",
        "plt.show()"
      ],
      "execution_count": 25,
      "outputs": [
        {
          "output_type": "display_data",
          "data": {
            "image/png": "[encoded data removed]",
            "text/plain": [
              "<Figure size 432x288 with 1 Axes>"
            ]
          },
          "metadata": {
            "tags": []
          }
        }
      ]
    },
    {
      "cell_type": "code",
      "metadata": {
        "id": "Y_qLL3HWd8FG",
        "colab_type": "code",
        "colab": {}
      },
      "source": [
        "from keras.layers import Dropout\n",
        "from keras import regularizers"
      ],
      "execution_count": 0,
      "outputs": []
    },
    {
      "cell_type": "code",
      "metadata": {
        "id": "7pO4Ipi9d_T0",
        "colab_type": "code",
        "colab": {
          "base_uri": "https://localhost:8080/",
          "height": 128
        },
        "outputId": "59c5e9cb-ae70-4a8c-b982-23d9770040c2"
      },
      "source": [
        "model_3 = Sequential([\n",
        "    Dense(1000, activation='relu', kernel_regularizer=regularizers.l2(0.01), input_shape=(10,)),\n",
        "    Dropout(0.3),\n",
        "    Dense(1000, activation='relu', kernel_regularizer=regularizers.l2(0.01)),\n",
        "    Dropout(0.3),\n",
        "    Dense(1000, activation='relu', kernel_regularizer=regularizers.l2(0.01)),\n",
        "    Dropout(0.3),\n",
        "    Dense(1000, activation='relu', kernel_regularizer=regularizers.l2(0.01)),\n",
        "    Dropout(0.3),\n",
        "    Dense(1, activation='sigmoid', kernel_regularizer=regularizers.l2(0.01)),\n",
        "])"
      ],
      "execution_count": 27,
      "outputs": [
        {
          "output_type": "stream",
          "text": [
            "WARNING:tensorflow:From /usr/local/lib/python3.6/dist-packages/keras/backend/tensorflow_backend.py:148: The name tf.placeholder_with_default is deprecated. Please use tf.compat.v1.placeholder_with_default instead.\n",
            "\n",
            "WARNING:tensorflow:From /usr/local/lib/python3.6/dist-packages/keras/backend/tensorflow_backend.py:3733: calling dropout (from tensorflow.python.ops.nn_ops) with keep_prob is deprecated and will be removed in a future version.\n",
            "Instructions for updating:\n",
            "Please use `rate` instead of `keep_prob`. Rate should be set to `rate = 1 - keep_prob`.\n"
          ],
          "name": "stdout"
        }
      ]
    },
    {
      "cell_type": "code",
      "metadata": {
        "id": "N8gXWZ0zeCFm",
        "colab_type": "code",
        "colab": {
          "base_uri": "https://localhost:8080/",
          "height": 1000
        },
        "outputId": "2bbd010c-e341-44b9-f85a-e43595f236e3"
      },
      "source": [
        "model_3.compile(optimizer='adam',\n",
        "              loss='binary_crossentropy',\n",
        "              metrics=['accuracy'])\n",
        "hist_3 = model_3.fit(X_train, Y_train,\n",
        "          batch_size=32, epochs=100,\n",
        "          validation_data=(X_val, Y_val))"
      ],
      "execution_count": 28,
      "outputs": [
        {
          "output_type": "stream",
          "text": [
            "Train on 1022 samples, validate on 219 samples\n",
            "Epoch 1/100\n",
            "1022/1022 [==============================] - 1s 1ms/step - loss: 14.7556 - acc: 0.6037 - val_loss: 4.0823 - val_acc: 0.8356\n",
            "Epoch 2/100\n",
            "1022/1022 [==============================] - 0s 244us/step - loss: 1.7303 - acc: 0.8454 - val_loss: 0.7655 - val_acc: 0.8082\n",
            "Epoch 3/100\n",
            "1022/1022 [==============================] - 0s 218us/step - loss: 0.5958 - acc: 0.8444 - val_loss: 0.5451 - val_acc: 0.8539\n",
            "Epoch 4/100\n",
            "1022/1022 [==============================] - 0s 215us/step - loss: 0.5081 - acc: 0.8659 - val_loss: 0.5746 - val_acc: 0.8539\n",
            "Epoch 5/100\n",
            "1022/1022 [==============================] - 0s 244us/step - loss: 0.4859 - acc: 0.8718 - val_loss: 0.5261 - val_acc: 0.8630\n",
            "Epoch 6/100\n",
            "1022/1022 [==============================] - 0s 267us/step - loss: 0.4678 - acc: 0.8855 - val_loss: 0.5063 - val_acc: 0.8721\n",
            "Epoch 7/100\n",
            "1022/1022 [==============================] - 0s 236us/step - loss: 0.4985 - acc: 0.8708 - val_loss: 0.5101 - val_acc: 0.8767\n",
            "Epoch 8/100\n",
            "1022/1022 [==============================] - 0s 216us/step - loss: 0.4640 - acc: 0.8767 - val_loss: 0.5199 - val_acc: 0.8721\n",
            "Epoch 9/100\n",
            "1022/1022 [==============================] - 0s 234us/step - loss: 0.4769 - acc: 0.8748 - val_loss: 0.5426 - val_acc: 0.8539\n",
            "Epoch 10/100\n",
            "1022/1022 [==============================] - 0s 274us/step - loss: 0.4590 - acc: 0.8777 - val_loss: 0.4753 - val_acc: 0.8813\n",
            "Epoch 11/100\n",
            "1022/1022 [==============================] - 0s 232us/step - loss: 0.4568 - acc: 0.8708 - val_loss: 0.5085 - val_acc: 0.8813\n",
            "Epoch 12/100\n",
            "1022/1022 [==============================] - 0s 250us/step - loss: 0.4606 - acc: 0.8826 - val_loss: 0.4699 - val_acc: 0.8858\n",
            "Epoch 13/100\n",
            "1022/1022 [==============================] - 0s 216us/step - loss: 0.4635 - acc: 0.8757 - val_loss: 0.4710 - val_acc: 0.8721\n",
            "Epoch 14/100\n",
            "1022/1022 [==============================] - 0s 266us/step - loss: 0.4443 - acc: 0.8767 - val_loss: 0.4652 - val_acc: 0.8767\n",
            "Epoch 15/100\n",
            "1022/1022 [==============================] - 0s 216us/step - loss: 0.4488 - acc: 0.8845 - val_loss: 0.4704 - val_acc: 0.8676\n",
            "Epoch 16/100\n",
            "1022/1022 [==============================] - 0s 215us/step - loss: 0.4497 - acc: 0.8767 - val_loss: 0.4610 - val_acc: 0.8858\n",
            "Epoch 17/100\n",
            "1022/1022 [==============================] - 0s 212us/step - loss: 0.4449 - acc: 0.8885 - val_loss: 0.4901 - val_acc: 0.8858\n",
            "Epoch 18/100\n",
            "1022/1022 [==============================] - 0s 232us/step - loss: 0.4514 - acc: 0.8748 - val_loss: 0.5326 - val_acc: 0.8493\n",
            "Epoch 19/100\n",
            "1022/1022 [==============================] - 0s 252us/step - loss: 0.4579 - acc: 0.8767 - val_loss: 0.4963 - val_acc: 0.8721\n",
            "Epoch 20/100\n",
            "1022/1022 [==============================] - 0s 223us/step - loss: 0.4887 - acc: 0.8591 - val_loss: 0.4619 - val_acc: 0.8904\n",
            "Epoch 21/100\n",
            "1022/1022 [==============================] - 0s 214us/step - loss: 0.4601 - acc: 0.8836 - val_loss: 0.4860 - val_acc: 0.8539\n",
            "Epoch 22/100\n",
            "1022/1022 [==============================] - 0s 248us/step - loss: 0.4355 - acc: 0.8836 - val_loss: 0.5469 - val_acc: 0.8539\n",
            "Epoch 23/100\n",
            "1022/1022 [==============================] - 0s 262us/step - loss: 0.4757 - acc: 0.8679 - val_loss: 0.4621 - val_acc: 0.8813\n",
            "Epoch 24/100\n",
            "1022/1022 [==============================] - 0s 223us/step - loss: 0.4358 - acc: 0.8738 - val_loss: 0.4528 - val_acc: 0.8813\n",
            "Epoch 25/100\n",
            "1022/1022 [==============================] - 0s 216us/step - loss: 0.4564 - acc: 0.8699 - val_loss: 0.4697 - val_acc: 0.8950\n",
            "Epoch 26/100\n",
            "1022/1022 [==============================] - 0s 236us/step - loss: 0.4414 - acc: 0.8777 - val_loss: 0.4566 - val_acc: 0.8676\n",
            "Epoch 27/100\n",
            "1022/1022 [==============================] - 0s 242us/step - loss: 0.4352 - acc: 0.8806 - val_loss: 0.4614 - val_acc: 0.8721\n",
            "Epoch 28/100\n",
            "1022/1022 [==============================] - 0s 215us/step - loss: 0.4288 - acc: 0.8777 - val_loss: 0.4567 - val_acc: 0.8767\n",
            "Epoch 29/100\n",
            "1022/1022 [==============================] - 0s 221us/step - loss: 0.4278 - acc: 0.8845 - val_loss: 0.4583 - val_acc: 0.8813\n",
            "Epoch 30/100\n",
            "1022/1022 [==============================] - 0s 227us/step - loss: 0.4461 - acc: 0.8659 - val_loss: 0.4597 - val_acc: 0.8950\n",
            "Epoch 31/100\n",
            "1022/1022 [==============================] - 0s 231us/step - loss: 0.4388 - acc: 0.8796 - val_loss: 0.4541 - val_acc: 0.8813\n",
            "Epoch 32/100\n",
            "1022/1022 [==============================] - 0s 231us/step - loss: 0.4564 - acc: 0.8571 - val_loss: 0.5153 - val_acc: 0.8539\n",
            "Epoch 33/100\n",
            "1022/1022 [==============================] - 0s 213us/step - loss: 0.4774 - acc: 0.8640 - val_loss: 0.4625 - val_acc: 0.8813\n",
            "Epoch 34/100\n",
            "1022/1022 [==============================] - 0s 224us/step - loss: 0.4351 - acc: 0.8865 - val_loss: 0.4626 - val_acc: 0.8904\n",
            "Epoch 35/100\n",
            "1022/1022 [==============================] - 0s 221us/step - loss: 0.4265 - acc: 0.8757 - val_loss: 0.4590 - val_acc: 0.8858\n",
            "Epoch 36/100\n",
            "1022/1022 [==============================] - 0s 254us/step - loss: 0.4328 - acc: 0.8777 - val_loss: 0.4825 - val_acc: 0.8858\n",
            "Epoch 37/100\n",
            "1022/1022 [==============================] - 0s 219us/step - loss: 0.4415 - acc: 0.8836 - val_loss: 0.4545 - val_acc: 0.8813\n",
            "Epoch 38/100\n",
            "1022/1022 [==============================] - 0s 227us/step - loss: 0.4272 - acc: 0.8767 - val_loss: 0.4532 - val_acc: 0.8767\n",
            "Epoch 39/100\n",
            "1022/1022 [==============================] - 0s 220us/step - loss: 0.4268 - acc: 0.8787 - val_loss: 0.4666 - val_acc: 0.8995\n",
            "Epoch 40/100\n",
            "1022/1022 [==============================] - 0s 275us/step - loss: 0.4275 - acc: 0.8757 - val_loss: 0.4544 - val_acc: 0.8813\n",
            "Epoch 41/100\n",
            "1022/1022 [==============================] - 0s 244us/step - loss: 0.4277 - acc: 0.8865 - val_loss: 0.4641 - val_acc: 0.8995\n",
            "Epoch 42/100\n",
            "1022/1022 [==============================] - 0s 271us/step - loss: 0.4357 - acc: 0.8894 - val_loss: 0.4591 - val_acc: 0.8858\n",
            "Epoch 43/100\n",
            "1022/1022 [==============================] - 0s 268us/step - loss: 0.4323 - acc: 0.8855 - val_loss: 0.5199 - val_acc: 0.8630\n",
            "Epoch 44/100\n",
            "1022/1022 [==============================] - 0s 245us/step - loss: 0.4362 - acc: 0.8806 - val_loss: 0.4692 - val_acc: 0.8995\n",
            "Epoch 45/100\n",
            "1022/1022 [==============================] - 0s 225us/step - loss: 0.4366 - acc: 0.8777 - val_loss: 0.4509 - val_acc: 0.8813\n",
            "Epoch 46/100\n",
            "1022/1022 [==============================] - 0s 262us/step - loss: 0.4283 - acc: 0.8865 - val_loss: 0.5004 - val_acc: 0.8676\n",
            "Epoch 47/100\n",
            "1022/1022 [==============================] - 0s 275us/step - loss: 0.4555 - acc: 0.8669 - val_loss: 0.4614 - val_acc: 0.8721\n",
            "Epoch 48/100\n",
            "1022/1022 [==============================] - 0s 262us/step - loss: 0.4366 - acc: 0.8718 - val_loss: 0.4701 - val_acc: 0.8995\n",
            "Epoch 49/100\n",
            "1022/1022 [==============================] - 0s 235us/step - loss: 0.4220 - acc: 0.8855 - val_loss: 0.4554 - val_acc: 0.8767\n",
            "Epoch 50/100\n",
            "1022/1022 [==============================] - 0s 204us/step - loss: 0.4508 - acc: 0.8738 - val_loss: 0.4626 - val_acc: 0.8995\n",
            "Epoch 51/100\n",
            "1022/1022 [==============================] - 0s 217us/step - loss: 0.4259 - acc: 0.8875 - val_loss: 0.4617 - val_acc: 0.8995\n",
            "Epoch 52/100\n",
            "1022/1022 [==============================] - 0s 228us/step - loss: 0.4234 - acc: 0.8845 - val_loss: 0.4659 - val_acc: 0.8630\n",
            "Epoch 53/100\n",
            "1022/1022 [==============================] - 0s 270us/step - loss: 0.4297 - acc: 0.8796 - val_loss: 0.4864 - val_acc: 0.8904\n",
            "Epoch 54/100\n",
            "1022/1022 [==============================] - 0s 300us/step - loss: 0.4317 - acc: 0.8777 - val_loss: 0.4567 - val_acc: 0.8767\n",
            "Epoch 55/100\n",
            "1022/1022 [==============================] - 0s 251us/step - loss: 0.4343 - acc: 0.8826 - val_loss: 0.4540 - val_acc: 0.8721\n",
            "Epoch 56/100\n",
            "1022/1022 [==============================] - 0s 224us/step - loss: 0.4376 - acc: 0.8796 - val_loss: 0.5274 - val_acc: 0.8630\n",
            "Epoch 57/100\n",
            "1022/1022 [==============================] - 0s 269us/step - loss: 0.4367 - acc: 0.8787 - val_loss: 0.4535 - val_acc: 0.8813\n",
            "Epoch 58/100\n",
            "1022/1022 [==============================] - 0s 260us/step - loss: 0.4341 - acc: 0.8787 - val_loss: 0.5089 - val_acc: 0.8721\n",
            "Epoch 59/100\n",
            "1022/1022 [==============================] - 0s 272us/step - loss: 0.4361 - acc: 0.8699 - val_loss: 0.5139 - val_acc: 0.8676\n",
            "Epoch 60/100\n",
            "1022/1022 [==============================] - 0s 255us/step - loss: 0.4383 - acc: 0.8816 - val_loss: 0.5071 - val_acc: 0.8676\n",
            "Epoch 61/100\n",
            "1022/1022 [==============================] - 0s 261us/step - loss: 0.4484 - acc: 0.8748 - val_loss: 0.4790 - val_acc: 0.8584\n",
            "Epoch 62/100\n",
            "1022/1022 [==============================] - 0s 274us/step - loss: 0.4522 - acc: 0.8523 - val_loss: 0.5021 - val_acc: 0.8767\n",
            "Epoch 63/100\n",
            "1022/1022 [==============================] - 0s 249us/step - loss: 0.4344 - acc: 0.8806 - val_loss: 0.4522 - val_acc: 0.8813\n",
            "Epoch 64/100\n",
            "1022/1022 [==============================] - 0s 232us/step - loss: 0.4253 - acc: 0.8787 - val_loss: 0.4566 - val_acc: 0.8813\n",
            "Epoch 65/100\n",
            "1022/1022 [==============================] - 0s 268us/step - loss: 0.4253 - acc: 0.8845 - val_loss: 0.4570 - val_acc: 0.8813\n",
            "Epoch 66/100\n",
            "1022/1022 [==============================] - 0s 281us/step - loss: 0.4400 - acc: 0.8845 - val_loss: 0.4563 - val_acc: 0.8813\n",
            "Epoch 67/100\n",
            "1022/1022 [==============================] - 0s 256us/step - loss: 0.4345 - acc: 0.8767 - val_loss: 0.4556 - val_acc: 0.8813\n",
            "Epoch 68/100\n",
            "1022/1022 [==============================] - 0s 222us/step - loss: 0.4285 - acc: 0.8836 - val_loss: 0.4775 - val_acc: 0.8904\n",
            "Epoch 69/100\n",
            "1022/1022 [==============================] - 0s 262us/step - loss: 0.4289 - acc: 0.8924 - val_loss: 0.4609 - val_acc: 0.8995\n",
            "Epoch 70/100\n",
            "1022/1022 [==============================] - 0s 270us/step - loss: 0.4133 - acc: 0.8836 - val_loss: 0.4568 - val_acc: 0.8767\n",
            "Epoch 71/100\n",
            "1022/1022 [==============================] - 0s 240us/step - loss: 0.4244 - acc: 0.8728 - val_loss: 0.5697 - val_acc: 0.8584\n",
            "Epoch 72/100\n",
            "1022/1022 [==============================] - 0s 223us/step - loss: 0.4426 - acc: 0.8767 - val_loss: 0.4644 - val_acc: 0.8995\n",
            "Epoch 73/100\n",
            "1022/1022 [==============================] - 0s 253us/step - loss: 0.4176 - acc: 0.9022 - val_loss: 0.5240 - val_acc: 0.8676\n",
            "Epoch 74/100\n",
            "1022/1022 [==============================] - 0s 266us/step - loss: 0.4322 - acc: 0.8875 - val_loss: 0.5498 - val_acc: 0.8630\n",
            "Epoch 75/100\n",
            "1022/1022 [==============================] - 0s 221us/step - loss: 0.4425 - acc: 0.8787 - val_loss: 0.4718 - val_acc: 0.8995\n",
            "Epoch 76/100\n",
            "1022/1022 [==============================] - 0s 233us/step - loss: 0.4280 - acc: 0.8816 - val_loss: 0.5886 - val_acc: 0.8311\n",
            "Epoch 77/100\n",
            "1022/1022 [==============================] - 0s 250us/step - loss: 0.4442 - acc: 0.8787 - val_loss: 0.4562 - val_acc: 0.8858\n",
            "Epoch 78/100\n",
            "1022/1022 [==============================] - 0s 284us/step - loss: 0.4316 - acc: 0.8777 - val_loss: 0.4531 - val_acc: 0.8767\n",
            "Epoch 79/100\n",
            "1022/1022 [==============================] - 0s 224us/step - loss: 0.4342 - acc: 0.8894 - val_loss: 0.4547 - val_acc: 0.8767\n",
            "Epoch 80/100\n",
            "1022/1022 [==============================] - 0s 225us/step - loss: 0.4220 - acc: 0.8845 - val_loss: 0.4834 - val_acc: 0.8904\n",
            "Epoch 81/100\n",
            "1022/1022 [==============================] - 0s 248us/step - loss: 0.4253 - acc: 0.8826 - val_loss: 0.4615 - val_acc: 0.8813\n",
            "Epoch 82/100\n",
            "1022/1022 [==============================] - 0s 255us/step - loss: 0.4374 - acc: 0.8845 - val_loss: 0.4727 - val_acc: 0.8950\n",
            "Epoch 83/100\n",
            "1022/1022 [==============================] - 0s 219us/step - loss: 0.4354 - acc: 0.8787 - val_loss: 0.4798 - val_acc: 0.8950\n",
            "Epoch 84/100\n",
            "1022/1022 [==============================] - 0s 227us/step - loss: 0.4253 - acc: 0.8836 - val_loss: 0.4519 - val_acc: 0.8767\n",
            "Epoch 85/100\n",
            "1022/1022 [==============================] - 0s 224us/step - loss: 0.4398 - acc: 0.8757 - val_loss: 0.4723 - val_acc: 0.8950\n",
            "Epoch 86/100\n",
            "1022/1022 [==============================] - 0s 277us/step - loss: 0.4486 - acc: 0.8767 - val_loss: 0.4814 - val_acc: 0.8539\n",
            "Epoch 87/100\n",
            "1022/1022 [==============================] - 0s 246us/step - loss: 0.4369 - acc: 0.8855 - val_loss: 0.4578 - val_acc: 0.8813\n",
            "Epoch 88/100\n",
            "1022/1022 [==============================] - 0s 256us/step - loss: 0.4228 - acc: 0.8875 - val_loss: 0.4632 - val_acc: 0.8858\n",
            "Epoch 89/100\n",
            "1022/1022 [==============================] - 0s 221us/step - loss: 0.4218 - acc: 0.8757 - val_loss: 0.4724 - val_acc: 0.8995\n",
            "Epoch 90/100\n",
            "1022/1022 [==============================] - 0s 268us/step - loss: 0.4174 - acc: 0.8875 - val_loss: 0.4654 - val_acc: 0.8995\n",
            "Epoch 91/100\n",
            "1022/1022 [==============================] - 0s 246us/step - loss: 0.4296 - acc: 0.8855 - val_loss: 0.4692 - val_acc: 0.8950\n",
            "Epoch 92/100\n",
            "1022/1022 [==============================] - 0s 230us/step - loss: 0.4322 - acc: 0.8806 - val_loss: 0.5507 - val_acc: 0.8630\n",
            "Epoch 93/100\n",
            "1022/1022 [==============================] - 0s 215us/step - loss: 0.4366 - acc: 0.8836 - val_loss: 0.4928 - val_acc: 0.8904\n",
            "Epoch 94/100\n",
            "1022/1022 [==============================] - 0s 264us/step - loss: 0.4271 - acc: 0.8875 - val_loss: 0.4660 - val_acc: 0.8950\n",
            "Epoch 95/100\n",
            "1022/1022 [==============================] - 0s 234us/step - loss: 0.4249 - acc: 0.8787 - val_loss: 0.4591 - val_acc: 0.8858\n",
            "Epoch 96/100\n",
            "1022/1022 [==============================] - 0s 264us/step - loss: 0.4292 - acc: 0.8816 - val_loss: 0.4631 - val_acc: 0.8995\n",
            "Epoch 97/100\n",
            "1022/1022 [==============================] - 0s 272us/step - loss: 0.4291 - acc: 0.8845 - val_loss: 0.4544 - val_acc: 0.8813\n",
            "Epoch 98/100\n",
            "1022/1022 [==============================] - 0s 246us/step - loss: 0.4355 - acc: 0.8855 - val_loss: 0.4575 - val_acc: 0.8767\n",
            "Epoch 99/100\n",
            "1022/1022 [==============================] - 0s 257us/step - loss: 0.4236 - acc: 0.8865 - val_loss: 0.4851 - val_acc: 0.8904\n",
            "Epoch 100/100\n",
            "1022/1022 [==============================] - 0s 269us/step - loss: 0.4431 - acc: 0.8777 - val_loss: 0.4852 - val_acc: 0.8904\n"
          ],
          "name": "stdout"
        }
      ]
    },
    {
      "cell_type": "code",
      "metadata": {
        "id": "4b_khH_seE2o",
        "colab_type": "code",
        "colab": {
          "base_uri": "https://localhost:8080/",
          "height": 295
        },
        "outputId": "32ed382e-c222-432f-b081-47b6a1d78343"
      },
      "source": [
        "plt.plot(hist_3.history['loss'])\n",
        "plt.plot(hist_3.history['val_loss'])\n",
        "plt.title('Model loss')\n",
        "plt.ylabel('Loss')\n",
        "plt.xlabel('Epoch')\n",
        "plt.legend(['Train', 'Val'], loc='upper right')\n",
        "plt.ylim(top=1.2, bottom=0)\n",
        "plt.show()"
      ],
      "execution_count": 29,
      "outputs": [
        {
          "output_type": "display_data",
          "data": {
            "image/png": "[encoded data removed]",
            "text/plain": [
              "<Figure size 432x288 with 1 Axes>"
            ]
          },
          "metadata": {
            "tags": []
          }
        }
      ]
    },
    {
      "cell_type": "code",
      "metadata": {
        "id": "LQ4n72dneMP1",
        "colab_type": "code",
        "colab": {
          "base_uri": "https://localhost:8080/",
          "height": 295
        },
        "outputId": "e35d3f37-d9ad-436e-afc5-a029ba45af5e"
      },
      "source": [
        "plt.plot(hist_3.history['acc'])\n",
        "plt.plot(hist_3.history['val_acc'])\n",
        "plt.title('Model accuracy')\n",
        "plt.ylabel('Accuracy')\n",
        "plt.xlabel('Epoch')\n",
        "plt.legend(['Train', 'Val'], loc='lower right')\n",
        "plt.show()"
      ],
      "execution_count": 30,
      "outputs": [
        {
          "output_type": "display_data",
          "data": {
            "image/png": "[encoded data removed]",
            "text/plain": [
              "<Figure size 432x288 with 1 Axes>"
            ]
          },
          "metadata": {
            "tags": []
          }
        }
      ]
    }
  ]
}