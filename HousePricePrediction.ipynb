{
  "nbformat": 4,
  "nbformat_minor": 0,
  "metadata": {
    "colab": {
      "name": "HousePricePrediction.ipynb",
      "provenance": [],
      "toc_visible": true,
      "include_colab_link": true
    },
    "kernelspec": {
      "name": "python3",
      "display_name": "Python 3"
    },
    "accelerator": "GPU"
  },
  "cells": [
    {
      "cell_type": "markdown",
      "metadata": {
        "id": "view-in-github",
        "colab_type": "text"
      },
      "source": [
        "<a href=\"https://colab.research.google.com/github/Gnkhakimova/CS5590-BigData/blob/master/HousePricePrediction.ipynb\" target=\"_parent\"><img src=\"https://colab.research.google.com/assets/colab-badge.svg\" alt=\"Open In Colab\"/></a>"
      ]
    },
    {
      "cell_type": "markdown",
      "metadata": {
        "id": "CVrCnknZbXn6",
        "colab_type": "text"
      },
      "source": [
        "## House price prediction using Deep Learning "
      ]
    },
    {
      "cell_type": "markdown",
      "metadata": {
        "id": "BSZ4wm9Mz-v5",
        "colab_type": "text"
      },
      "source": [
        "Deep learning belong to machine learning which uses artificial neural network to perform prediction. Deep learning is used in many industries nowadays, such as computer vision, natural language processing, image recognition, board games and etc. Deep learning has different types of architectures like: Convolutional neural network, Deep neural network, Recurrent neural network, etc. There are two types of deep learning: supervised and not supervised. Supervised learning will expect that human will control process of training a model by labeling dataset, form which model learns to make predictions. Unsupervised learning does not need human assistance, model will learn on it is own without labeling data. For final project we implemented house price prediction model using deep learning. Our model will predict if listed price is above or below average, example will be Zillow which helps buyers to identify if listed house price is at average range or not, which helps us not to overpay for house. "
      ]
    },
    {
      "cell_type": "markdown",
      "metadata": {
        "id": "tVNjRBpI2Npn",
        "colab_type": "text"
      },
      "source": [
        "Import panda library"
      ]
    },
    {
      "cell_type": "code",
      "metadata": {
        "id": "vQsD6SYxyNGO",
        "colab_type": "code",
        "colab": {}
      },
      "source": [
        "import pandas as pd"
      ],
      "execution_count": 0,
      "outputs": []
    },
    {
      "cell_type": "markdown",
      "metadata": {
        "id": "pbBpj5qj2YMb",
        "colab_type": "text"
      },
      "source": [
        "Import dataset and store it into \"data\" variable. \n",
        "\n"
      ]
    },
    {
      "cell_type": "code",
      "metadata": {
        "id": "F-P5eV7ZyNjV",
        "colab_type": "code",
        "colab": {}
      },
      "source": [
        "data = pd.read_csv('train.csv')"
      ],
      "execution_count": 0,
      "outputs": []
    },
    {
      "cell_type": "markdown",
      "metadata": {
        "id": "n7Vn6id42k6c",
        "colab_type": "text"
      },
      "source": [
        "Display dataset"
      ]
    },
    {
      "cell_type": "code",
      "metadata": {
        "id": "lU4zjHG4yTYp",
        "colab_type": "code",
        "colab": {
          "base_uri": "https://localhost:8080/",
          "height": 427
        },
        "outputId": "bb61256d-069b-43fb-b2de-8c0aa62eef19"
      },
      "source": [
        "data"
      ],
      "execution_count": 25,
      "outputs": [
        {
          "output_type": "execute_result",
          "data": {
            "text/html": [
              "<div>\n",
              "<style scoped>\n",
              "    .dataframe tbody tr th:only-of-type {\n",
              "        vertical-align: middle;\n",
              "    }\n",
              "\n",
              "    .dataframe tbody tr th {\n",
              "        vertical-align: top;\n",
              "    }\n",
              "\n",
              "    .dataframe thead th {\n",
              "        text-align: right;\n",
              "    }\n",
              "</style>\n",
              "<table border=\"1\" class=\"dataframe\">\n",
              "  <thead>\n",
              "    <tr style=\"text-align: right;\">\n",
              "      <th></th>\n",
              "      <th>LotArea</th>\n",
              "      <th>OverallQual</th>\n",
              "      <th>OverallCond</th>\n",
              "      <th>TotalBsmtSF</th>\n",
              "      <th>FullBath</th>\n",
              "      <th>HalfBath</th>\n",
              "      <th>BedroomAbvGr</th>\n",
              "      <th>TotRmsAbvGrd</th>\n",
              "      <th>Fireplaces</th>\n",
              "      <th>GarageArea</th>\n",
              "      <th>AboveMedianPrice</th>\n",
              "    </tr>\n",
              "  </thead>\n",
              "  <tbody>\n",
              "    <tr>\n",
              "      <th>0</th>\n",
              "      <td>8450</td>\n",
              "      <td>7</td>\n",
              "      <td>5</td>\n",
              "      <td>856</td>\n",
              "      <td>2</td>\n",
              "      <td>1</td>\n",
              "      <td>3</td>\n",
              "      <td>8</td>\n",
              "      <td>0</td>\n",
              "      <td>548</td>\n",
              "      <td>1</td>\n",
              "    </tr>\n",
              "    <tr>\n",
              "      <th>1</th>\n",
              "      <td>9600</td>\n",
              "      <td>6</td>\n",
              "      <td>8</td>\n",
              "      <td>1262</td>\n",
              "      <td>2</td>\n",
              "      <td>0</td>\n",
              "      <td>3</td>\n",
              "      <td>6</td>\n",
              "      <td>1</td>\n",
              "      <td>460</td>\n",
              "      <td>1</td>\n",
              "    </tr>\n",
              "    <tr>\n",
              "      <th>2</th>\n",
              "      <td>11250</td>\n",
              "      <td>7</td>\n",
              "      <td>5</td>\n",
              "      <td>920</td>\n",
              "      <td>2</td>\n",
              "      <td>1</td>\n",
              "      <td>3</td>\n",
              "      <td>6</td>\n",
              "      <td>1</td>\n",
              "      <td>608</td>\n",
              "      <td>1</td>\n",
              "    </tr>\n",
              "    <tr>\n",
              "      <th>3</th>\n",
              "      <td>9550</td>\n",
              "      <td>7</td>\n",
              "      <td>5</td>\n",
              "      <td>756</td>\n",
              "      <td>1</td>\n",
              "      <td>0</td>\n",
              "      <td>3</td>\n",
              "      <td>7</td>\n",
              "      <td>1</td>\n",
              "      <td>642</td>\n",
              "      <td>0</td>\n",
              "    </tr>\n",
              "    <tr>\n",
              "      <th>4</th>\n",
              "      <td>14260</td>\n",
              "      <td>8</td>\n",
              "      <td>5</td>\n",
              "      <td>1145</td>\n",
              "      <td>2</td>\n",
              "      <td>1</td>\n",
              "      <td>4</td>\n",
              "      <td>9</td>\n",
              "      <td>1</td>\n",
              "      <td>836</td>\n",
              "      <td>1</td>\n",
              "    </tr>\n",
              "    <tr>\n",
              "      <th>...</th>\n",
              "      <td>...</td>\n",
              "      <td>...</td>\n",
              "      <td>...</td>\n",
              "      <td>...</td>\n",
              "      <td>...</td>\n",
              "      <td>...</td>\n",
              "      <td>...</td>\n",
              "      <td>...</td>\n",
              "      <td>...</td>\n",
              "      <td>...</td>\n",
              "      <td>...</td>\n",
              "    </tr>\n",
              "    <tr>\n",
              "      <th>1455</th>\n",
              "      <td>7917</td>\n",
              "      <td>6</td>\n",
              "      <td>5</td>\n",
              "      <td>953</td>\n",
              "      <td>2</td>\n",
              "      <td>1</td>\n",
              "      <td>3</td>\n",
              "      <td>7</td>\n",
              "      <td>1</td>\n",
              "      <td>460</td>\n",
              "      <td>1</td>\n",
              "    </tr>\n",
              "    <tr>\n",
              "      <th>1456</th>\n",
              "      <td>13175</td>\n",
              "      <td>6</td>\n",
              "      <td>6</td>\n",
              "      <td>1542</td>\n",
              "      <td>2</td>\n",
              "      <td>0</td>\n",
              "      <td>3</td>\n",
              "      <td>7</td>\n",
              "      <td>2</td>\n",
              "      <td>500</td>\n",
              "      <td>1</td>\n",
              "    </tr>\n",
              "    <tr>\n",
              "      <th>1457</th>\n",
              "      <td>9042</td>\n",
              "      <td>7</td>\n",
              "      <td>9</td>\n",
              "      <td>1152</td>\n",
              "      <td>2</td>\n",
              "      <td>0</td>\n",
              "      <td>4</td>\n",
              "      <td>9</td>\n",
              "      <td>2</td>\n",
              "      <td>252</td>\n",
              "      <td>1</td>\n",
              "    </tr>\n",
              "    <tr>\n",
              "      <th>1458</th>\n",
              "      <td>9717</td>\n",
              "      <td>5</td>\n",
              "      <td>6</td>\n",
              "      <td>1078</td>\n",
              "      <td>1</td>\n",
              "      <td>0</td>\n",
              "      <td>2</td>\n",
              "      <td>5</td>\n",
              "      <td>0</td>\n",
              "      <td>240</td>\n",
              "      <td>0</td>\n",
              "    </tr>\n",
              "    <tr>\n",
              "      <th>1459</th>\n",
              "      <td>9937</td>\n",
              "      <td>5</td>\n",
              "      <td>6</td>\n",
              "      <td>1256</td>\n",
              "      <td>1</td>\n",
              "      <td>1</td>\n",
              "      <td>3</td>\n",
              "      <td>6</td>\n",
              "      <td>0</td>\n",
              "      <td>276</td>\n",
              "      <td>0</td>\n",
              "    </tr>\n",
              "  </tbody>\n",
              "</table>\n",
              "<p>1460 rows × 11 columns</p>\n",
              "</div>"
            ],
            "text/plain": [
              "      LotArea  OverallQual  ...  GarageArea  AboveMedianPrice\n",
              "0        8450            7  ...         548                 1\n",
              "1        9600            6  ...         460                 1\n",
              "2       11250            7  ...         608                 1\n",
              "3        9550            7  ...         642                 0\n",
              "4       14260            8  ...         836                 1\n",
              "...       ...          ...  ...         ...               ...\n",
              "1455     7917            6  ...         460                 1\n",
              "1456    13175            6  ...         500                 1\n",
              "1457     9042            7  ...         252                 1\n",
              "1458     9717            5  ...         240                 0\n",
              "1459     9937            5  ...         276                 0\n",
              "\n",
              "[1460 rows x 11 columns]"
            ]
          },
          "metadata": {
            "tags": []
          },
          "execution_count": 25
        }
      ]
    },
    {
      "cell_type": "markdown",
      "metadata": {
        "id": "HJQI8XWr2nJz",
        "colab_type": "text"
      },
      "source": [
        "We need to convert dataset into array so out model can work on it."
      ]
    },
    {
      "cell_type": "code",
      "metadata": {
        "id": "yCKAKe7gyUIx",
        "colab_type": "code",
        "colab": {}
      },
      "source": [
        "dataset = data.values"
      ],
      "execution_count": 0,
      "outputs": []
    },
    {
      "cell_type": "code",
      "metadata": {
        "id": "qyNAIrvfyXLP",
        "colab_type": "code",
        "colab": {
          "base_uri": "https://localhost:8080/",
          "height": 145
        },
        "outputId": "66526264-d875-45fb-92dc-403072d9b914"
      },
      "source": [
        "dataset"
      ],
      "execution_count": 27,
      "outputs": [
        {
          "output_type": "execute_result",
          "data": {
            "text/plain": [
              "array([[ 8450,     7,     5, ...,     0,   548,     1],\n",
              "       [ 9600,     6,     8, ...,     1,   460,     1],\n",
              "       [11250,     7,     5, ...,     1,   608,     1],\n",
              "       ...,\n",
              "       [ 9042,     7,     9, ...,     2,   252,     1],\n",
              "       [ 9717,     5,     6, ...,     0,   240,     0],\n",
              "       [ 9937,     5,     6, ...,     0,   276,     0]])"
            ]
          },
          "metadata": {
            "tags": []
          },
          "execution_count": 27
        }
      ]
    },
    {
      "cell_type": "markdown",
      "metadata": {
        "id": "KrnCfh28214W",
        "colab_type": "text"
      },
      "source": [
        "Here we are partitioning dataset, by defining input features, which will be first 10 columns."
      ]
    },
    {
      "cell_type": "code",
      "metadata": {
        "id": "INe-kZIGyYtM",
        "colab_type": "code",
        "colab": {}
      },
      "source": [
        "input_features = dataset[:,0:10]"
      ],
      "execution_count": 0,
      "outputs": []
    },
    {
      "cell_type": "markdown",
      "metadata": {
        "id": "IcXPvpk33Hyf",
        "colab_type": "text"
      },
      "source": [
        "Also we are setting our predicted value, which will be our last column."
      ]
    },
    {
      "cell_type": "code",
      "metadata": {
        "id": "af3086OPydXO",
        "colab_type": "code",
        "colab": {}
      },
      "source": [
        "predicted_value = dataset[:,10]"
      ],
      "execution_count": 0,
      "outputs": []
    },
    {
      "cell_type": "markdown",
      "metadata": {
        "id": "iRK9JCjF3UCZ",
        "colab_type": "text"
      },
      "source": [
        "Importing processing method form sklearn library, we do not need to import whole library we can just import function which we need for our project."
      ]
    },
    {
      "cell_type": "code",
      "metadata": {
        "id": "VnaD3gnKyfKN",
        "colab_type": "code",
        "colab": {}
      },
      "source": [
        "from sklearn import preprocessing"
      ],
      "execution_count": 0,
      "outputs": []
    },
    {
      "cell_type": "markdown",
      "metadata": {
        "id": "hAP54nME3gYJ",
        "colab_type": "text"
      },
      "source": [
        "In order for our model to be trained first we need to prepare dataset, since our model will not be able to perform any operations if data is not clean. Usually 80% of time is spend to clean data while implementing neural network model, because datasets is not normalized and might miss some data, which is not not helpful when training a model."
      ]
    },
    {
      "cell_type": "markdown",
      "metadata": {
        "id": "XHfVRWx_4MK5",
        "colab_type": "text"
      },
      "source": [
        "To normalize our dataset we will use MinMaxScaler method which transform our data into range form 0 to 1"
      ]
    },
    {
      "cell_type": "code",
      "metadata": {
        "id": "fBhsVUehylvo",
        "colab_type": "code",
        "colab": {}
      },
      "source": [
        "min_max_scaler = preprocessing.MinMaxScaler()\n",
        "X_scale = min_max_scaler.fit_transform(input_features)"
      ],
      "execution_count": 0,
      "outputs": []
    },
    {
      "cell_type": "markdown",
      "metadata": {
        "id": "KD9SoGee4aFF",
        "colab_type": "text"
      },
      "source": [
        "Lets display our normalized data. "
      ]
    },
    {
      "cell_type": "code",
      "metadata": {
        "id": "GTo2u1rOyneI",
        "colab_type": "code",
        "colab": {
          "base_uri": "https://localhost:8080/",
          "height": 254
        },
        "outputId": "dec8b882-7950-436f-e839-330f30b307ae"
      },
      "source": [
        "X_scale"
      ],
      "execution_count": 32,
      "outputs": [
        {
          "output_type": "execute_result",
          "data": {
            "text/plain": [
              "array([[0.0334198 , 0.66666667, 0.5       , ..., 0.5       , 0.        ,\n",
              "        0.3864598 ],\n",
              "       [0.03879502, 0.55555556, 0.875     , ..., 0.33333333, 0.33333333,\n",
              "        0.32440056],\n",
              "       [0.04650728, 0.66666667, 0.5       , ..., 0.33333333, 0.33333333,\n",
              "        0.42877292],\n",
              "       ...,\n",
              "       [0.03618687, 0.66666667, 1.        , ..., 0.58333333, 0.66666667,\n",
              "        0.17771509],\n",
              "       [0.03934189, 0.44444444, 0.625     , ..., 0.25      , 0.        ,\n",
              "        0.16925247],\n",
              "       [0.04037019, 0.44444444, 0.625     , ..., 0.33333333, 0.        ,\n",
              "        0.19464034]])"
            ]
          },
          "metadata": {
            "tags": []
          },
          "execution_count": 32
        }
      ]
    },
    {
      "cell_type": "markdown",
      "metadata": {
        "id": "4c5CJm6a4fCh",
        "colab_type": "text"
      },
      "source": [
        "Importing needed function from libraries. "
      ]
    },
    {
      "cell_type": "code",
      "metadata": {
        "id": "W_jPUkIkyo1f",
        "colab_type": "code",
        "colab": {}
      },
      "source": [
        "from sklearn.model_selection import train_test_split"
      ],
      "execution_count": 0,
      "outputs": []
    },
    {
      "cell_type": "markdown",
      "metadata": {
        "id": "qbPfplso4i0t",
        "colab_type": "text"
      },
      "source": [
        "Since we do not have test dataset we will use given dataset and devide into two parts, training dataset and test dataset, which will evaluate our model. sklearn already has function which will help us to split our data.  "
      ]
    },
    {
      "cell_type": "code",
      "metadata": {
        "id": "tUAZpgi5yq1F",
        "colab_type": "code",
        "colab": {}
      },
      "source": [
        "input_feature_train, input_feature_val_and_test, predicted_value_train, predicted_value_val_and_test = train_test_split(X_scale, predicted_value, test_size=0.2)"
      ],
      "execution_count": 0,
      "outputs": []
    },
    {
      "cell_type": "code",
      "metadata": {
        "id": "vqV4HrooysJf",
        "colab_type": "code",
        "colab": {}
      },
      "source": [
        "input_feature_val, input_feature_test, predicted_val, predicted_test = train_test_split(input_feature_val_and_test, predicted_value_val_and_test, test_size=0.6)"
      ],
      "execution_count": 0,
      "outputs": []
    },
    {
      "cell_type": "code",
      "metadata": {
        "id": "UpSeIqiwytws",
        "colab_type": "code",
        "colab": {
          "base_uri": "https://localhost:8080/",
          "height": 35
        },
        "outputId": "baa85f6a-adef-4e4e-c31f-0c7583eb9924"
      },
      "source": [
        "print(input_feature_train.shape, input_feature_val.shape, input_feature_test.shape, predicted_value_train.shape, predicted_val.shape, predicted_test.shape)"
      ],
      "execution_count": 38,
      "outputs": [
        {
          "output_type": "stream",
          "text": [
            "(1168, 10) (116, 10) (176, 10) (1168,) (116,) (176,)\n"
          ],
          "name": "stdout"
        }
      ]
    },
    {
      "cell_type": "markdown",
      "metadata": {
        "id": "xg-VV5jN5Lo1",
        "colab_type": "text"
      },
      "source": [
        "# Create Neural Network model"
      ]
    },
    {
      "cell_type": "markdown",
      "metadata": {
        "id": "loKHOs335Q8x",
        "colab_type": "text"
      },
      "source": [
        "We will use keras library to create a model, lets import needed functions from library. "
      ]
    },
    {
      "cell_type": "code",
      "metadata": {
        "id": "F2CJe4p-yvHU",
        "colab_type": "code",
        "colab": {}
      },
      "source": [
        "from keras.models import Sequential\n",
        "from keras.layers import Dense"
      ],
      "execution_count": 0,
      "outputs": []
    },
    {
      "cell_type": "markdown",
      "metadata": {
        "id": "TtqRXwYC60UM",
        "colab_type": "text"
      },
      "source": [
        "For our model we decinded to use Sequebtial model, which consist of four layers: 3 Hidden layers and one output layer. For activation function we are using ReLu. Activation functions transforms all negarive values to 0.   \n",
        "![alt text](https://github.com/Gnkhakimova/CS5590-BigData/blob/master/Project/Screenshots/relu.JPG?raw=true)\n",
        "\n"
      ]
    },
    {
      "cell_type": "markdown",
      "metadata": {
        "id": "OftoAwbt8KZA",
        "colab_type": "text"
      },
      "source": [
        "Variable input_shape means numer of input features. Output activation function is Sigmoid, which gives us values between 0 and 1, it is mostly used for model which needs prediction propability.  \n",
        "![alt text](https://github.com/Gnkhakimova/CS5590-BigData/blob/master/Project/Screenshots/sigmoid.JPG?raw=true)"
      ]
    },
    {
      "cell_type": "code",
      "metadata": {
        "id": "KZFa6Sxlyx--",
        "colab_type": "code",
        "colab": {}
      },
      "source": [
        "predict_price_model = Sequential([\n",
        "    Dense(32, activation='relu', input_shape=(10,)),\n",
        "    Dense(32, activation='relu'),\n",
        "    Dense(16, activation='relu'),\n",
        "    Dense(1, activation='sigmoid'),\n",
        "])"
      ],
      "execution_count": 0,
      "outputs": []
    },
    {
      "cell_type": "markdown",
      "metadata": {
        "id": "LOFr170y9Tq-",
        "colab_type": "text"
      },
      "source": [
        "Next step will be defining optimazation function, we are using stochastic gradient descent, it selects random values in order to find Gradient Descent (it is used to update parameters of model), instead of selecting whole dataset. We are using Binary Crossentropy for loss function. Loss function identifies how good our model is working by making predictions. Lower loss value better model prediction. Binary Crossentropy calculations are made independantly, which means each output vector is calculated separatly and results of previous vector will not effect next one. Also we are setting additional parameter as accuracy. "
      ]
    },
    {
      "cell_type": "code",
      "metadata": {
        "id": "OnpbABx-y0Ju",
        "colab_type": "code",
        "colab": {}
      },
      "source": [
        "predict_price_model.compile(optimizer='sgd',\n",
        "              loss='binary_crossentropy',\n",
        "              metrics=['accuracy'])"
      ],
      "execution_count": 0,
      "outputs": []
    },
    {
      "cell_type": "markdown",
      "metadata": {
        "id": "qXkIY2GEAHAH",
        "colab_type": "text"
      },
      "source": [
        "Lets train our model by calling \"fit\" function, where we are passing input features and predicted values, we also need to define batch size and epoch value(number of iterations.)"
      ]
    },
    {
      "cell_type": "code",
      "metadata": {
        "id": "u9b2rASJy3FT",
        "colab_type": "code",
        "colab": {
          "base_uri": "https://localhost:8080/",
          "height": 1000
        },
        "outputId": "81f08041-3253-4d64-99e9-7d848ca69cb4"
      },
      "source": [
        "\n",
        "history = predict_price_model.fit(input_feature_train, predicted_value_train,\n",
        "          batch_size=32, epochs=30,\n",
        "          validation_data=(input_feature_val, predicted_val))"
      ],
      "execution_count": 42,
      "outputs": [
        {
          "output_type": "stream",
          "text": [
            "Train on 1168 samples, validate on 116 samples\n",
            "Epoch 1/30\n",
            "1168/1168 [==============================] - 0s 291us/step - loss: 0.7091 - acc: 0.4957 - val_loss: 0.7077 - val_acc: 0.4483\n",
            "Epoch 2/30\n",
            "1168/1168 [==============================] - 0s 106us/step - loss: 0.7018 - acc: 0.4580 - val_loss: 0.7001 - val_acc: 0.4138\n",
            "Epoch 3/30\n",
            "1168/1168 [==============================] - 0s 105us/step - loss: 0.6971 - acc: 0.3990 - val_loss: 0.6943 - val_acc: 0.4569\n",
            "Epoch 4/30\n",
            "1168/1168 [==============================] - 0s 98us/step - loss: 0.6933 - acc: 0.5000 - val_loss: 0.6896 - val_acc: 0.6983\n",
            "Epoch 5/30\n",
            "1168/1168 [==============================] - 0s 100us/step - loss: 0.6900 - acc: 0.6413 - val_loss: 0.6855 - val_acc: 0.6983\n",
            "Epoch 6/30\n",
            "1168/1168 [==============================] - 0s 91us/step - loss: 0.6870 - acc: 0.6173 - val_loss: 0.6817 - val_acc: 0.6983\n",
            "Epoch 7/30\n",
            "1168/1168 [==============================] - 0s 92us/step - loss: 0.6840 - acc: 0.5788 - val_loss: 0.6782 - val_acc: 0.6983\n",
            "Epoch 8/30\n",
            "1168/1168 [==============================] - 0s 86us/step - loss: 0.6809 - acc: 0.6447 - val_loss: 0.6745 - val_acc: 0.6983\n",
            "Epoch 9/30\n",
            "1168/1168 [==============================] - 0s 105us/step - loss: 0.6779 - acc: 0.6592 - val_loss: 0.6705 - val_acc: 0.6810\n",
            "Epoch 10/30\n",
            "1168/1168 [==============================] - 0s 91us/step - loss: 0.6747 - acc: 0.6498 - val_loss: 0.6670 - val_acc: 0.7155\n",
            "Epoch 11/30\n",
            "1168/1168 [==============================] - 0s 104us/step - loss: 0.6713 - acc: 0.6652 - val_loss: 0.6633 - val_acc: 0.7155\n",
            "Epoch 12/30\n",
            "1168/1168 [==============================] - 0s 103us/step - loss: 0.6678 - acc: 0.6909 - val_loss: 0.6592 - val_acc: 0.7414\n",
            "Epoch 13/30\n",
            "1168/1168 [==============================] - 0s 95us/step - loss: 0.6639 - acc: 0.6986 - val_loss: 0.6552 - val_acc: 0.7845\n",
            "Epoch 14/30\n",
            "1168/1168 [==============================] - 0s 95us/step - loss: 0.6597 - acc: 0.7397 - val_loss: 0.6505 - val_acc: 0.8017\n",
            "Epoch 15/30\n",
            "1168/1168 [==============================] - 0s 94us/step - loss: 0.6552 - acc: 0.7466 - val_loss: 0.6456 - val_acc: 0.8190\n",
            "Epoch 16/30\n",
            "1168/1168 [==============================] - 0s 102us/step - loss: 0.6503 - acc: 0.7646 - val_loss: 0.6397 - val_acc: 0.8190\n",
            "Epoch 17/30\n",
            "1168/1168 [==============================] - 0s 93us/step - loss: 0.6451 - acc: 0.7654 - val_loss: 0.6336 - val_acc: 0.8276\n",
            "Epoch 18/30\n",
            "1168/1168 [==============================] - 0s 93us/step - loss: 0.6392 - acc: 0.7783 - val_loss: 0.6267 - val_acc: 0.8276\n",
            "Epoch 19/30\n",
            "1168/1168 [==============================] - 0s 105us/step - loss: 0.6328 - acc: 0.7663 - val_loss: 0.6199 - val_acc: 0.8276\n",
            "Epoch 20/30\n",
            "1168/1168 [==============================] - 0s 95us/step - loss: 0.6257 - acc: 0.7825 - val_loss: 0.6120 - val_acc: 0.8448\n",
            "Epoch 21/30\n",
            "1168/1168 [==============================] - 0s 106us/step - loss: 0.6178 - acc: 0.7885 - val_loss: 0.6031 - val_acc: 0.8362\n",
            "Epoch 22/30\n",
            "1168/1168 [==============================] - 0s 110us/step - loss: 0.6092 - acc: 0.7971 - val_loss: 0.5931 - val_acc: 0.8276\n",
            "Epoch 23/30\n",
            "1168/1168 [==============================] - 0s 96us/step - loss: 0.6001 - acc: 0.7962 - val_loss: 0.5835 - val_acc: 0.8448\n",
            "Epoch 24/30\n",
            "1168/1168 [==============================] - 0s 92us/step - loss: 0.5905 - acc: 0.8039 - val_loss: 0.5740 - val_acc: 0.8448\n",
            "Epoch 25/30\n",
            "1168/1168 [==============================] - 0s 90us/step - loss: 0.5802 - acc: 0.8236 - val_loss: 0.5605 - val_acc: 0.8534\n",
            "Epoch 26/30\n",
            "1168/1168 [==============================] - 0s 93us/step - loss: 0.5689 - acc: 0.8176 - val_loss: 0.5483 - val_acc: 0.8448\n",
            "Epoch 27/30\n",
            "1168/1168 [==============================] - 0s 99us/step - loss: 0.5562 - acc: 0.8236 - val_loss: 0.5363 - val_acc: 0.8448\n",
            "Epoch 28/30\n",
            "1168/1168 [==============================] - 0s 88us/step - loss: 0.5432 - acc: 0.8356 - val_loss: 0.5224 - val_acc: 0.8448\n",
            "Epoch 29/30\n",
            "1168/1168 [==============================] - 0s 95us/step - loss: 0.5304 - acc: 0.8390 - val_loss: 0.5102 - val_acc: 0.8448\n",
            "Epoch 30/30\n",
            "1168/1168 [==============================] - 0s 106us/step - loss: 0.5170 - acc: 0.8433 - val_loss: 0.4976 - val_acc: 0.8448\n"
          ],
          "name": "stdout"
        }
      ]
    },
    {
      "cell_type": "markdown",
      "metadata": {
        "id": "nO5iKlhVAiCI",
        "colab_type": "text"
      },
      "source": [
        "Evaluating our model by passing test dataset, which was not fed to model, so data which is not seen by model will be used. "
      ]
    },
    {
      "cell_type": "code",
      "metadata": {
        "id": "7OmFUlJ3y6H6",
        "colab_type": "code",
        "colab": {
          "base_uri": "https://localhost:8080/",
          "height": 54
        },
        "outputId": "b82ebfed-1aa4-494d-f046-838878b448ed"
      },
      "source": [
        "predict_price_model.evaluate(input_feature_test, predicted_test)[1]"
      ],
      "execution_count": 44,
      "outputs": [
        {
          "output_type": "stream",
          "text": [
            "176/176 [==============================] - 0s 135us/step\n"
          ],
          "name": "stdout"
        },
        {
          "output_type": "execute_result",
          "data": {
            "text/plain": [
              "0.8352272727272727"
            ]
          },
          "metadata": {
            "tags": []
          },
          "execution_count": 44
        }
      ]
    },
    {
      "cell_type": "markdown",
      "metadata": {
        "id": "bFQMlvBsBRU5",
        "colab_type": "text"
      },
      "source": [
        "Lets display values by plotting them"
      ]
    },
    {
      "cell_type": "code",
      "metadata": {
        "id": "HhciXvWvy_7H",
        "colab_type": "code",
        "colab": {}
      },
      "source": [
        "\n",
        "import matplotlib.pyplot as plt"
      ],
      "execution_count": 0,
      "outputs": []
    },
    {
      "cell_type": "code",
      "metadata": {
        "id": "HsGETSyUzCG4",
        "colab_type": "code",
        "colab": {
          "base_uri": "https://localhost:8080/",
          "height": 295
        },
        "outputId": "5b72201a-fb27-4b0f-c55e-231f4ded115e"
      },
      "source": [
        "plt.plot(history.history['loss'])\n",
        "plt.plot(history.history['val_loss'])\n",
        "plt.title('Model loss')\n",
        "plt.ylabel('Loss values')\n",
        "plt.xlabel('Number of Epochs')\n",
        "plt.legend(['Train', 'Val'], loc='upper right')\n",
        "plt.show()"
      ],
      "execution_count": 46,
      "outputs": [
        {
          "output_type": "display_data",
          "data": {
            "image/png": "[encoded data removed]",
            "text/plain": [
              "<Figure size 432x288 with 1 Axes>"
            ]
          },
          "metadata": {
            "tags": []
          }
        }
      ]
    },
    {
      "cell_type": "code",
      "metadata": {
        "id": "2lQ-0z7NzDvK",
        "colab_type": "code",
        "colab": {
          "base_uri": "https://localhost:8080/",
          "height": 295
        },
        "outputId": "abfda47c-49ff-4791-aa66-253f8fdf2a34"
      },
      "source": [
        "plt.plot(history.history['acc'])\n",
        "plt.plot(history.history['val_acc'])\n",
        "plt.title('Model accuracy')\n",
        "plt.ylabel('Accuracy value')\n",
        "plt.xlabel('Number of Epochs')\n",
        "plt.legend(['Train', 'Val'], loc='lower right')\n",
        "plt.show()"
      ],
      "execution_count": 47,
      "outputs": [
        {
          "output_type": "display_data",
          "data": {
            "image/png": "[encoded data removed]",
            "text/plain": [
              "<Figure size 432x288 with 1 Axes>"
            ]
          },
          "metadata": {
            "tags": []
          }
        }
      ]
    },
    {
      "cell_type": "code",
      "metadata": {
        "id": "QirwEJ2XzNpo",
        "colab_type": "code",
        "colab": {}
      },
      "source": [
        ""
      ],
      "execution_count": 0,
      "outputs": []
    }
  ]
}