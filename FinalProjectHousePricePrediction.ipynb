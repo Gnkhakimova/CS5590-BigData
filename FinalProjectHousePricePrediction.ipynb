{
  "nbformat": 4,
  "nbformat_minor": 0,
  "metadata": {
    "colab": {
      "name": "Copy of HousePricePrediction.ipynb",
      "provenance": [],
      "collapsed_sections": [],
      "include_colab_link": true
    },
    "kernelspec": {
      "name": "python3",
      "display_name": "Python 3"
    },
    "accelerator": "GPU"
  },
  "cells": [
    {
      "cell_type": "markdown",
      "metadata": {
        "id": "view-in-github",
        "colab_type": "text"
      },
      "source": [
        "<a href=\"https://colab.research.google.com/github/Gnkhakimova/CS5590-BigData/blob/master/FinalProjectHousePricePrediction.ipynb\" target=\"_parent\"><img src=\"https://colab.research.google.com/assets/colab-badge.svg\" alt=\"Open In Colab\"/></a>"
      ]
    },
    {
      "cell_type": "markdown",
      "metadata": {
        "id": "CVrCnknZbXn6",
        "colab_type": "text"
      },
      "source": [
        "## House price prediction using Deep Learning "
      ]
    },
    {
      "cell_type": "markdown",
      "metadata": {
        "id": "t2ylPR8pVJAC",
        "colab_type": "text"
      },
      "source": [
        "[Previous increments report](https://github.com/Gnkhakimova/CS5590-BigData/wiki/Project)  \n",
        " [Video presentation](https://www.youtube.com/watch?v=SIjP9joqMZQ)"
      ]
    },
    {
      "cell_type": "markdown",
      "metadata": {
        "id": "BSZ4wm9Mz-v5",
        "colab_type": "text"
      },
      "source": [
        "Deep learning belong to machine learning which uses artificial neural network to perform prediction. Deep learning is used in many industries nowadays, such as computer vision, natural language processing, image recognition, board games and etc. Deep learning has different types of architectures like: Convolutional neural network, Deep neural network, Recurrent neural network, etc. There are two types of deep learning: supervised and not supervised. Supervised learning will expect that human will control process of training a model by labeling dataset, form which model learns to make predictions. Unsupervised learning does not need human assistance, model will learn on it is own without labeling data. For final project we implemented house price prediction model using deep learning. Our model will predict if listed price is above or below average, example will be Zillow which helps buyers to identify if listed house price is at average range or not, which helps us not to overpay for house. "
      ]
    },
    {
      "cell_type": "markdown",
      "metadata": {
        "id": "tVNjRBpI2Npn",
        "colab_type": "text"
      },
      "source": [
        "Import panda library"
      ]
    },
    {
      "cell_type": "code",
      "metadata": {
        "id": "vQsD6SYxyNGO",
        "colab_type": "code",
        "colab": {}
      },
      "source": [
        "import pandas as pd"
      ],
      "execution_count": 0,
      "outputs": []
    },
    {
      "cell_type": "markdown",
      "metadata": {
        "id": "pbBpj5qj2YMb",
        "colab_type": "text"
      },
      "source": [
        "Import dataset and store it into \"data\" variable. \n",
        "\n"
      ]
    },
    {
      "cell_type": "code",
      "metadata": {
        "id": "F-P5eV7ZyNjV",
        "colab_type": "code",
        "colab": {}
      },
      "source": [
        "data = pd.read_csv('dataset.csv')"
      ],
      "execution_count": 0,
      "outputs": []
    },
    {
      "cell_type": "markdown",
      "metadata": {
        "id": "n7Vn6id42k6c",
        "colab_type": "text"
      },
      "source": [
        "Display dataset"
      ]
    },
    {
      "cell_type": "code",
      "metadata": {
        "id": "lU4zjHG4yTYp",
        "colab_type": "code",
        "outputId": "dcc301aa-c364-492e-9746-47077055d80b",
        "colab": {
          "base_uri": "https://localhost:8080/",
          "height": 407
        }
      },
      "source": [
        "data"
      ],
      "execution_count": 0,
      "outputs": [
        {
          "output_type": "execute_result",
          "data": {
            "text/html": [
              "<div>\n",
              "<style scoped>\n",
              "    .dataframe tbody tr th:only-of-type {\n",
              "        vertical-align: middle;\n",
              "    }\n",
              "\n",
              "    .dataframe tbody tr th {\n",
              "        vertical-align: top;\n",
              "    }\n",
              "\n",
              "    .dataframe thead th {\n",
              "        text-align: right;\n",
              "    }\n",
              "</style>\n",
              "<table border=\"1\" class=\"dataframe\">\n",
              "  <thead>\n",
              "    <tr style=\"text-align: right;\">\n",
              "      <th></th>\n",
              "      <th>LotArea</th>\n",
              "      <th>OverallQual</th>\n",
              "      <th>OverallCond</th>\n",
              "      <th>TotalBsmtSF</th>\n",
              "      <th>FullBath</th>\n",
              "      <th>HalfBath</th>\n",
              "      <th>BedroomAbvGr</th>\n",
              "      <th>TotRmsAbvGrd</th>\n",
              "      <th>Fireplaces</th>\n",
              "      <th>GarageArea</th>\n",
              "      <th>AboveMedianPrice</th>\n",
              "    </tr>\n",
              "  </thead>\n",
              "  <tbody>\n",
              "    <tr>\n",
              "      <th>0</th>\n",
              "      <td>8450</td>\n",
              "      <td>7</td>\n",
              "      <td>5</td>\n",
              "      <td>856</td>\n",
              "      <td>2</td>\n",
              "      <td>1</td>\n",
              "      <td>3</td>\n",
              "      <td>8</td>\n",
              "      <td>0</td>\n",
              "      <td>548</td>\n",
              "      <td>1</td>\n",
              "    </tr>\n",
              "    <tr>\n",
              "      <th>1</th>\n",
              "      <td>9600</td>\n",
              "      <td>6</td>\n",
              "      <td>8</td>\n",
              "      <td>1262</td>\n",
              "      <td>2</td>\n",
              "      <td>0</td>\n",
              "      <td>3</td>\n",
              "      <td>6</td>\n",
              "      <td>1</td>\n",
              "      <td>460</td>\n",
              "      <td>1</td>\n",
              "    </tr>\n",
              "    <tr>\n",
              "      <th>2</th>\n",
              "      <td>11250</td>\n",
              "      <td>7</td>\n",
              "      <td>5</td>\n",
              "      <td>920</td>\n",
              "      <td>2</td>\n",
              "      <td>1</td>\n",
              "      <td>3</td>\n",
              "      <td>6</td>\n",
              "      <td>1</td>\n",
              "      <td>608</td>\n",
              "      <td>1</td>\n",
              "    </tr>\n",
              "    <tr>\n",
              "      <th>3</th>\n",
              "      <td>9550</td>\n",
              "      <td>7</td>\n",
              "      <td>5</td>\n",
              "      <td>756</td>\n",
              "      <td>1</td>\n",
              "      <td>0</td>\n",
              "      <td>3</td>\n",
              "      <td>7</td>\n",
              "      <td>1</td>\n",
              "      <td>642</td>\n",
              "      <td>0</td>\n",
              "    </tr>\n",
              "    <tr>\n",
              "      <th>4</th>\n",
              "      <td>14260</td>\n",
              "      <td>8</td>\n",
              "      <td>5</td>\n",
              "      <td>1145</td>\n",
              "      <td>2</td>\n",
              "      <td>1</td>\n",
              "      <td>4</td>\n",
              "      <td>9</td>\n",
              "      <td>1</td>\n",
              "      <td>836</td>\n",
              "      <td>1</td>\n",
              "    </tr>\n",
              "    <tr>\n",
              "      <th>...</th>\n",
              "      <td>...</td>\n",
              "      <td>...</td>\n",
              "      <td>...</td>\n",
              "      <td>...</td>\n",
              "      <td>...</td>\n",
              "      <td>...</td>\n",
              "      <td>...</td>\n",
              "      <td>...</td>\n",
              "      <td>...</td>\n",
              "      <td>...</td>\n",
              "      <td>...</td>\n",
              "    </tr>\n",
              "    <tr>\n",
              "      <th>1455</th>\n",
              "      <td>7917</td>\n",
              "      <td>6</td>\n",
              "      <td>5</td>\n",
              "      <td>953</td>\n",
              "      <td>2</td>\n",
              "      <td>1</td>\n",
              "      <td>3</td>\n",
              "      <td>7</td>\n",
              "      <td>1</td>\n",
              "      <td>460</td>\n",
              "      <td>1</td>\n",
              "    </tr>\n",
              "    <tr>\n",
              "      <th>1456</th>\n",
              "      <td>13175</td>\n",
              "      <td>6</td>\n",
              "      <td>6</td>\n",
              "      <td>1542</td>\n",
              "      <td>2</td>\n",
              "      <td>0</td>\n",
              "      <td>3</td>\n",
              "      <td>7</td>\n",
              "      <td>2</td>\n",
              "      <td>500</td>\n",
              "      <td>1</td>\n",
              "    </tr>\n",
              "    <tr>\n",
              "      <th>1457</th>\n",
              "      <td>9042</td>\n",
              "      <td>7</td>\n",
              "      <td>9</td>\n",
              "      <td>1152</td>\n",
              "      <td>2</td>\n",
              "      <td>0</td>\n",
              "      <td>4</td>\n",
              "      <td>9</td>\n",
              "      <td>2</td>\n",
              "      <td>252</td>\n",
              "      <td>1</td>\n",
              "    </tr>\n",
              "    <tr>\n",
              "      <th>1458</th>\n",
              "      <td>9717</td>\n",
              "      <td>5</td>\n",
              "      <td>6</td>\n",
              "      <td>1078</td>\n",
              "      <td>1</td>\n",
              "      <td>0</td>\n",
              "      <td>2</td>\n",
              "      <td>5</td>\n",
              "      <td>0</td>\n",
              "      <td>240</td>\n",
              "      <td>0</td>\n",
              "    </tr>\n",
              "    <tr>\n",
              "      <th>1459</th>\n",
              "      <td>9937</td>\n",
              "      <td>5</td>\n",
              "      <td>6</td>\n",
              "      <td>1256</td>\n",
              "      <td>1</td>\n",
              "      <td>1</td>\n",
              "      <td>3</td>\n",
              "      <td>6</td>\n",
              "      <td>0</td>\n",
              "      <td>276</td>\n",
              "      <td>0</td>\n",
              "    </tr>\n",
              "  </tbody>\n",
              "</table>\n",
              "<p>1460 rows × 11 columns</p>\n",
              "</div>"
            ],
            "text/plain": [
              "      LotArea  OverallQual  ...  GarageArea  AboveMedianPrice\n",
              "0        8450            7  ...         548                 1\n",
              "1        9600            6  ...         460                 1\n",
              "2       11250            7  ...         608                 1\n",
              "3        9550            7  ...         642                 0\n",
              "4       14260            8  ...         836                 1\n",
              "...       ...          ...  ...         ...               ...\n",
              "1455     7917            6  ...         460                 1\n",
              "1456    13175            6  ...         500                 1\n",
              "1457     9042            7  ...         252                 1\n",
              "1458     9717            5  ...         240                 0\n",
              "1459     9937            5  ...         276                 0\n",
              "\n",
              "[1460 rows x 11 columns]"
            ]
          },
          "metadata": {
            "tags": []
          },
          "execution_count": 9
        }
      ]
    },
    {
      "cell_type": "markdown",
      "metadata": {
        "id": "HJQI8XWr2nJz",
        "colab_type": "text"
      },
      "source": [
        "We need to convert dataset into array so out model can work on it."
      ]
    },
    {
      "cell_type": "code",
      "metadata": {
        "id": "yCKAKe7gyUIx",
        "colab_type": "code",
        "colab": {}
      },
      "source": [
        "dataset = data.values"
      ],
      "execution_count": 0,
      "outputs": []
    },
    {
      "cell_type": "code",
      "metadata": {
        "id": "qyNAIrvfyXLP",
        "colab_type": "code",
        "outputId": "9cc9e2f2-a905-436a-fc10-74613f600916",
        "colab": {
          "base_uri": "https://localhost:8080/",
          "height": 145
        }
      },
      "source": [
        "dataset"
      ],
      "execution_count": 0,
      "outputs": [
        {
          "output_type": "execute_result",
          "data": {
            "text/plain": [
              "array([[ 8450,     7,     5, ...,     0,   548,     1],\n",
              "       [ 9600,     6,     8, ...,     1,   460,     1],\n",
              "       [11250,     7,     5, ...,     1,   608,     1],\n",
              "       ...,\n",
              "       [ 9042,     7,     9, ...,     2,   252,     1],\n",
              "       [ 9717,     5,     6, ...,     0,   240,     0],\n",
              "       [ 9937,     5,     6, ...,     0,   276,     0]])"
            ]
          },
          "metadata": {
            "tags": []
          },
          "execution_count": 11
        }
      ]
    },
    {
      "cell_type": "markdown",
      "metadata": {
        "id": "KrnCfh28214W",
        "colab_type": "text"
      },
      "source": [
        "Here we are partitioning dataset, by defining input features, which will be first 10 columns."
      ]
    },
    {
      "cell_type": "code",
      "metadata": {
        "id": "INe-kZIGyYtM",
        "colab_type": "code",
        "colab": {}
      },
      "source": [
        "input_features = dataset[:,0:10]"
      ],
      "execution_count": 0,
      "outputs": []
    },
    {
      "cell_type": "markdown",
      "metadata": {
        "id": "IcXPvpk33Hyf",
        "colab_type": "text"
      },
      "source": [
        "Also we are setting our predicted value, which will be our last column."
      ]
    },
    {
      "cell_type": "code",
      "metadata": {
        "id": "af3086OPydXO",
        "colab_type": "code",
        "colab": {}
      },
      "source": [
        "predicted_value = dataset[:,10]"
      ],
      "execution_count": 0,
      "outputs": []
    },
    {
      "cell_type": "markdown",
      "metadata": {
        "id": "iRK9JCjF3UCZ",
        "colab_type": "text"
      },
      "source": [
        "Importing processing method form sklearn library, we do not need to import whole library we can just import function which we need for our project."
      ]
    },
    {
      "cell_type": "code",
      "metadata": {
        "id": "VnaD3gnKyfKN",
        "colab_type": "code",
        "colab": {}
      },
      "source": [
        "from sklearn import preprocessing"
      ],
      "execution_count": 0,
      "outputs": []
    },
    {
      "cell_type": "markdown",
      "metadata": {
        "id": "hAP54nME3gYJ",
        "colab_type": "text"
      },
      "source": [
        "In order for our model to be trained first we need to prepare dataset, since our model will not be able to perform any operations if data is not clean. Usually 80% of time is spend to clean data while implementing neural network model, because datasets is not normalized and might miss some data, which is not not helpful when training a model."
      ]
    },
    {
      "cell_type": "markdown",
      "metadata": {
        "id": "XHfVRWx_4MK5",
        "colab_type": "text"
      },
      "source": [
        "To normalize our dataset we will use MinMaxScaler method which transform our data into range form 0 to 1"
      ]
    },
    {
      "cell_type": "code",
      "metadata": {
        "id": "fBhsVUehylvo",
        "colab_type": "code",
        "colab": {}
      },
      "source": [
        "min_max_scaler = preprocessing.MinMaxScaler()\n",
        "X_scale = min_max_scaler.fit_transform(input_features)"
      ],
      "execution_count": 0,
      "outputs": []
    },
    {
      "cell_type": "markdown",
      "metadata": {
        "id": "KD9SoGee4aFF",
        "colab_type": "text"
      },
      "source": [
        "Lets display our normalized data. "
      ]
    },
    {
      "cell_type": "code",
      "metadata": {
        "id": "GTo2u1rOyneI",
        "colab_type": "code",
        "outputId": "69815bd8-6900-413b-a31b-f63d9e579b68",
        "colab": {
          "base_uri": "https://localhost:8080/",
          "height": 254
        }
      },
      "source": [
        "X_scale"
      ],
      "execution_count": 0,
      "outputs": [
        {
          "output_type": "execute_result",
          "data": {
            "text/plain": [
              "array([[0.0334198 , 0.66666667, 0.5       , ..., 0.5       , 0.        ,\n",
              "        0.3864598 ],\n",
              "       [0.03879502, 0.55555556, 0.875     , ..., 0.33333333, 0.33333333,\n",
              "        0.32440056],\n",
              "       [0.04650728, 0.66666667, 0.5       , ..., 0.33333333, 0.33333333,\n",
              "        0.42877292],\n",
              "       ...,\n",
              "       [0.03618687, 0.66666667, 1.        , ..., 0.58333333, 0.66666667,\n",
              "        0.17771509],\n",
              "       [0.03934189, 0.44444444, 0.625     , ..., 0.25      , 0.        ,\n",
              "        0.16925247],\n",
              "       [0.04037019, 0.44444444, 0.625     , ..., 0.33333333, 0.        ,\n",
              "        0.19464034]])"
            ]
          },
          "metadata": {
            "tags": []
          },
          "execution_count": 16
        }
      ]
    },
    {
      "cell_type": "markdown",
      "metadata": {
        "id": "4c5CJm6a4fCh",
        "colab_type": "text"
      },
      "source": [
        "Importing needed function from libraries. "
      ]
    },
    {
      "cell_type": "code",
      "metadata": {
        "id": "W_jPUkIkyo1f",
        "colab_type": "code",
        "colab": {}
      },
      "source": [
        "from sklearn.model_selection import train_test_split"
      ],
      "execution_count": 0,
      "outputs": []
    },
    {
      "cell_type": "markdown",
      "metadata": {
        "id": "qbPfplso4i0t",
        "colab_type": "text"
      },
      "source": [
        "Since we do not have test dataset we will use given dataset and devide into two parts, training dataset and test dataset, which will evaluate our model. sklearn already has function which will help us to split our data.  "
      ]
    },
    {
      "cell_type": "code",
      "metadata": {
        "id": "tUAZpgi5yq1F",
        "colab_type": "code",
        "colab": {}
      },
      "source": [
        "input_feature_train, input_feature_val_and_test, predicted_value_train, predicted_value_val_and_test = train_test_split(X_scale, predicted_value, test_size=0.2)"
      ],
      "execution_count": 0,
      "outputs": []
    },
    {
      "cell_type": "code",
      "metadata": {
        "id": "vqV4HrooysJf",
        "colab_type": "code",
        "colab": {}
      },
      "source": [
        "input_feature_val, input_feature_test, predicted_val, predicted_test = train_test_split(input_feature_val_and_test, predicted_value_val_and_test, test_size=0.6)"
      ],
      "execution_count": 0,
      "outputs": []
    },
    {
      "cell_type": "code",
      "metadata": {
        "id": "UpSeIqiwytws",
        "colab_type": "code",
        "outputId": "c31dacd0-3b07-4d24-de98-1fb641a3ea87",
        "colab": {
          "base_uri": "https://localhost:8080/",
          "height": 35
        }
      },
      "source": [
        "print(input_feature_train.shape, input_feature_val.shape, input_feature_test.shape, predicted_value_train.shape, predicted_val.shape, predicted_test.shape)"
      ],
      "execution_count": 0,
      "outputs": [
        {
          "output_type": "stream",
          "text": [
            "(1168, 10) (116, 10) (176, 10) (1168,) (116,) (176,)\n"
          ],
          "name": "stdout"
        }
      ]
    },
    {
      "cell_type": "markdown",
      "metadata": {
        "id": "xg-VV5jN5Lo1",
        "colab_type": "text"
      },
      "source": [
        "# Create Neural Network model"
      ]
    },
    {
      "cell_type": "markdown",
      "metadata": {
        "id": "loKHOs335Q8x",
        "colab_type": "text"
      },
      "source": [
        "We will use keras library to create a model, lets import needed functions from library. "
      ]
    },
    {
      "cell_type": "code",
      "metadata": {
        "id": "F2CJe4p-yvHU",
        "colab_type": "code",
        "outputId": "5145d18c-1eb8-4676-9ea8-ec95a0a9a9a0",
        "colab": {
          "base_uri": "https://localhost:8080/",
          "height": 83
        }
      },
      "source": [
        "from keras.models import Sequential\n",
        "from keras.layers import Dense"
      ],
      "execution_count": 0,
      "outputs": [
        {
          "output_type": "stream",
          "text": [
            "Using TensorFlow backend.\n"
          ],
          "name": "stderr"
        },
        {
          "output_type": "display_data",
          "data": {
            "text/html": [
              "<p style=\"color: red;\">\n",
              "The default version of TensorFlow in Colab will soon switch to TensorFlow 2.x.<br>\n",
              "We recommend you <a href=\"https://www.tensorflow.org/guide/migrate\" target=\"_blank\">upgrade</a> now \n",
              "or ensure your notebook will continue to use TensorFlow 1.x via the <code>%tensorflow_version 1.x</code> magic:\n",
              "<a href=\"https://colab.research.google.com/notebooks/tensorflow_version.ipynb\" target=\"_blank\">more info</a>.</p>\n"
            ],
            "text/plain": [
              "<IPython.core.display.HTML object>"
            ]
          },
          "metadata": {
            "tags": []
          }
        }
      ]
    },
    {
      "cell_type": "markdown",
      "metadata": {
        "id": "TtqRXwYC60UM",
        "colab_type": "text"
      },
      "source": [
        "For our model we decinded to use Sequebtial model, which consist of four layers: 3 Hidden layers and one output layer. For activation function we are using ReLu. Activation functions transforms all negarive values to 0.   \n",
        "![alt text](https://github.com/Gnkhakimova/CS5590-BigData/blob/master/Project/Screenshots/relu.JPG?raw=true)\n",
        "\n"
      ]
    },
    {
      "cell_type": "markdown",
      "metadata": {
        "id": "OftoAwbt8KZA",
        "colab_type": "text"
      },
      "source": [
        "Variable input_shape means numer of input features. Output activation function is Sigmoid, which gives us values between 0 and 1, it is mostly used for model which needs prediction propability.  \n",
        "![alt text](https://github.com/Gnkhakimova/CS5590-BigData/blob/master/Project/Screenshots/sigmoid.JPG?raw=true)"
      ]
    },
    {
      "cell_type": "code",
      "metadata": {
        "id": "KZFa6Sxlyx--",
        "colab_type": "code",
        "outputId": "92aaf5a2-5923-4832-b170-8d074a5643ff",
        "colab": {
          "base_uri": "https://localhost:8080/",
          "height": 146
        }
      },
      "source": [
        "predict_price_model = Sequential([\n",
        "    Dense(32, activation='relu', input_shape=(10,)),\n",
        "    Dense(32, activation='relu'),\n",
        "    Dense(16, activation='relu'),\n",
        "    Dense(1, activation='sigmoid'),\n",
        "])"
      ],
      "execution_count": 0,
      "outputs": [
        {
          "output_type": "stream",
          "text": [
            "WARNING:tensorflow:From /usr/local/lib/python3.6/dist-packages/keras/backend/tensorflow_backend.py:66: The name tf.get_default_graph is deprecated. Please use tf.compat.v1.get_default_graph instead.\n",
            "\n",
            "WARNING:tensorflow:From /usr/local/lib/python3.6/dist-packages/keras/backend/tensorflow_backend.py:541: The name tf.placeholder is deprecated. Please use tf.compat.v1.placeholder instead.\n",
            "\n",
            "WARNING:tensorflow:From /usr/local/lib/python3.6/dist-packages/keras/backend/tensorflow_backend.py:4432: The name tf.random_uniform is deprecated. Please use tf.random.uniform instead.\n",
            "\n"
          ],
          "name": "stdout"
        }
      ]
    },
    {
      "cell_type": "markdown",
      "metadata": {
        "id": "LOFr170y9Tq-",
        "colab_type": "text"
      },
      "source": [
        "Next step will be defining optimazation function, we are using stochastic gradient descent, it selects random values in order to find Gradient Descent (it is used to update parameters of model), instead of selecting whole dataset. We are using Binary Crossentropy for loss function. Loss function identifies how good our model is working by making predictions. Lower loss value better model prediction. Binary Crossentropy calculations are made independantly, which means each output vector is calculated separatly and results of previous vector will not effect next one. Also we are setting additional parameter as accuracy. "
      ]
    },
    {
      "cell_type": "code",
      "metadata": {
        "id": "OnpbABx-y0Ju",
        "colab_type": "code",
        "outputId": "785133de-53a9-48f6-bf47-a98a38df2c76",
        "colab": {
          "base_uri": "https://localhost:8080/",
          "height": 165
        }
      },
      "source": [
        "predict_price_model.compile(optimizer='sgd',\n",
        "              loss='binary_crossentropy',\n",
        "              metrics=['accuracy'])"
      ],
      "execution_count": 0,
      "outputs": [
        {
          "output_type": "stream",
          "text": [
            "WARNING:tensorflow:From /usr/local/lib/python3.6/dist-packages/keras/optimizers.py:793: The name tf.train.Optimizer is deprecated. Please use tf.compat.v1.train.Optimizer instead.\n",
            "\n",
            "WARNING:tensorflow:From /usr/local/lib/python3.6/dist-packages/keras/backend/tensorflow_backend.py:3657: The name tf.log is deprecated. Please use tf.math.log instead.\n",
            "\n",
            "WARNING:tensorflow:From /usr/local/lib/python3.6/dist-packages/tensorflow_core/python/ops/nn_impl.py:183: where (from tensorflow.python.ops.array_ops) is deprecated and will be removed in a future version.\n",
            "Instructions for updating:\n",
            "Use tf.where in 2.0, which has the same broadcast rule as np.where\n"
          ],
          "name": "stdout"
        }
      ]
    },
    {
      "cell_type": "markdown",
      "metadata": {
        "id": "qXkIY2GEAHAH",
        "colab_type": "text"
      },
      "source": [
        "Lets train our model by calling \"fit\" function, where we are passing input features and predicted values, we also need to define batch size and epoch value(number of iterations.)"
      ]
    },
    {
      "cell_type": "code",
      "metadata": {
        "id": "u9b2rASJy3FT",
        "colab_type": "code",
        "outputId": "bd9d2569-6102-4eb7-cdaf-e6fe20925a94",
        "colab": {
          "base_uri": "https://localhost:8080/",
          "height": 1000
        }
      },
      "source": [
        "\n",
        "history = predict_price_model.fit(input_feature_train, predicted_value_train,\n",
        "          batch_size=32, epochs=30,\n",
        "          validation_data=(input_feature_val, predicted_val))"
      ],
      "execution_count": 0,
      "outputs": [
        {
          "output_type": "stream",
          "text": [
            "WARNING:tensorflow:From /usr/local/lib/python3.6/dist-packages/keras/backend/tensorflow_backend.py:1033: The name tf.assign_add is deprecated. Please use tf.compat.v1.assign_add instead.\n",
            "\n",
            "WARNING:tensorflow:From /usr/local/lib/python3.6/dist-packages/keras/backend/tensorflow_backend.py:1020: The name tf.assign is deprecated. Please use tf.compat.v1.assign instead.\n",
            "\n",
            "WARNING:tensorflow:From /usr/local/lib/python3.6/dist-packages/keras/backend/tensorflow_backend.py:3005: The name tf.Session is deprecated. Please use tf.compat.v1.Session instead.\n",
            "\n",
            "Train on 1168 samples, validate on 116 samples\n",
            "Epoch 1/30\n",
            "WARNING:tensorflow:From /usr/local/lib/python3.6/dist-packages/keras/backend/tensorflow_backend.py:190: The name tf.get_default_session is deprecated. Please use tf.compat.v1.get_default_session instead.\n",
            "\n",
            "WARNING:tensorflow:From /usr/local/lib/python3.6/dist-packages/keras/backend/tensorflow_backend.py:197: The name tf.ConfigProto is deprecated. Please use tf.compat.v1.ConfigProto instead.\n",
            "\n",
            "WARNING:tensorflow:From /usr/local/lib/python3.6/dist-packages/keras/backend/tensorflow_backend.py:207: The name tf.global_variables is deprecated. Please use tf.compat.v1.global_variables instead.\n",
            "\n",
            "WARNING:tensorflow:From /usr/local/lib/python3.6/dist-packages/keras/backend/tensorflow_backend.py:216: The name tf.is_variable_initialized is deprecated. Please use tf.compat.v1.is_variable_initialized instead.\n",
            "\n",
            "WARNING:tensorflow:From /usr/local/lib/python3.6/dist-packages/keras/backend/tensorflow_backend.py:223: The name tf.variables_initializer is deprecated. Please use tf.compat.v1.variables_initializer instead.\n",
            "\n",
            "1168/1168 [==============================] - 5s 4ms/step - loss: 0.6660 - acc: 0.5086 - val_loss: 0.6653 - val_acc: 0.5086\n",
            "Epoch 2/30\n",
            "1168/1168 [==============================] - 0s 138us/step - loss: 0.6547 - acc: 0.5651 - val_loss: 0.6541 - val_acc: 0.5690\n",
            "Epoch 3/30\n",
            "1168/1168 [==============================] - 0s 127us/step - loss: 0.6433 - acc: 0.6216 - val_loss: 0.6432 - val_acc: 0.6724\n",
            "Epoch 4/30\n",
            "1168/1168 [==============================] - 0s 124us/step - loss: 0.6308 - acc: 0.7012 - val_loss: 0.6308 - val_acc: 0.7069\n",
            "Epoch 5/30\n",
            "1168/1168 [==============================] - 0s 128us/step - loss: 0.6177 - acc: 0.7217 - val_loss: 0.6189 - val_acc: 0.7155\n",
            "Epoch 6/30\n",
            "1168/1168 [==============================] - 0s 124us/step - loss: 0.6054 - acc: 0.7440 - val_loss: 0.6062 - val_acc: 0.7328\n",
            "Epoch 7/30\n",
            "1168/1168 [==============================] - 0s 127us/step - loss: 0.5920 - acc: 0.7646 - val_loss: 0.5917 - val_acc: 0.7931\n",
            "Epoch 8/30\n",
            "1168/1168 [==============================] - 0s 128us/step - loss: 0.5776 - acc: 0.7860 - val_loss: 0.5768 - val_acc: 0.8276\n",
            "Epoch 9/30\n",
            "1168/1168 [==============================] - 0s 133us/step - loss: 0.5623 - acc: 0.8099 - val_loss: 0.5620 - val_acc: 0.8276\n",
            "Epoch 10/30\n",
            "1168/1168 [==============================] - 0s 127us/step - loss: 0.5469 - acc: 0.8125 - val_loss: 0.5471 - val_acc: 0.8621\n",
            "Epoch 11/30\n",
            "1168/1168 [==============================] - 0s 134us/step - loss: 0.5322 - acc: 0.8262 - val_loss: 0.5326 - val_acc: 0.8793\n",
            "Epoch 12/30\n",
            "1168/1168 [==============================] - 0s 144us/step - loss: 0.5170 - acc: 0.8425 - val_loss: 0.5184 - val_acc: 0.8448\n",
            "Epoch 13/30\n",
            "1168/1168 [==============================] - 0s 125us/step - loss: 0.5024 - acc: 0.8416 - val_loss: 0.5038 - val_acc: 0.8448\n",
            "Epoch 14/30\n",
            "1168/1168 [==============================] - 0s 131us/step - loss: 0.4877 - acc: 0.8519 - val_loss: 0.4882 - val_acc: 0.8793\n",
            "Epoch 15/30\n",
            "1168/1168 [==============================] - 0s 127us/step - loss: 0.4735 - acc: 0.8579 - val_loss: 0.4742 - val_acc: 0.8793\n",
            "Epoch 16/30\n",
            "1168/1168 [==============================] - 0s 138us/step - loss: 0.4589 - acc: 0.8562 - val_loss: 0.4604 - val_acc: 0.8793\n",
            "Epoch 17/30\n",
            "1168/1168 [==============================] - 0s 123us/step - loss: 0.4453 - acc: 0.8656 - val_loss: 0.4482 - val_acc: 0.8621\n",
            "Epoch 18/30\n",
            "1168/1168 [==============================] - 0s 133us/step - loss: 0.4326 - acc: 0.8596 - val_loss: 0.4340 - val_acc: 0.8966\n",
            "Epoch 19/30\n",
            "1168/1168 [==============================] - 0s 120us/step - loss: 0.4196 - acc: 0.8604 - val_loss: 0.4223 - val_acc: 0.8966\n",
            "Epoch 20/30\n",
            "1168/1168 [==============================] - 0s 128us/step - loss: 0.4073 - acc: 0.8656 - val_loss: 0.4106 - val_acc: 0.8793\n",
            "Epoch 21/30\n",
            "1168/1168 [==============================] - 0s 133us/step - loss: 0.3967 - acc: 0.8682 - val_loss: 0.3991 - val_acc: 0.8966\n",
            "Epoch 22/30\n",
            "1168/1168 [==============================] - 0s 144us/step - loss: 0.3863 - acc: 0.8673 - val_loss: 0.3903 - val_acc: 0.9052\n",
            "Epoch 23/30\n",
            "1168/1168 [==============================] - 0s 149us/step - loss: 0.3766 - acc: 0.8750 - val_loss: 0.3800 - val_acc: 0.8966\n",
            "Epoch 24/30\n",
            "1168/1168 [==============================] - 0s 122us/step - loss: 0.3671 - acc: 0.8699 - val_loss: 0.3713 - val_acc: 0.9052\n",
            "Epoch 25/30\n",
            "1168/1168 [==============================] - 0s 128us/step - loss: 0.3588 - acc: 0.8707 - val_loss: 0.3660 - val_acc: 0.8966\n",
            "Epoch 26/30\n",
            "1168/1168 [==============================] - 0s 132us/step - loss: 0.3514 - acc: 0.8784 - val_loss: 0.3570 - val_acc: 0.8966\n",
            "Epoch 27/30\n",
            "1168/1168 [==============================] - 0s 122us/step - loss: 0.3450 - acc: 0.8733 - val_loss: 0.3575 - val_acc: 0.8793\n",
            "Epoch 28/30\n",
            "1168/1168 [==============================] - 0s 129us/step - loss: 0.3385 - acc: 0.8784 - val_loss: 0.3455 - val_acc: 0.8966\n",
            "Epoch 29/30\n",
            "1168/1168 [==============================] - 0s 139us/step - loss: 0.3320 - acc: 0.8784 - val_loss: 0.3450 - val_acc: 0.8966\n",
            "Epoch 30/30\n",
            "1168/1168 [==============================] - 0s 133us/step - loss: 0.3282 - acc: 0.8716 - val_loss: 0.3474 - val_acc: 0.8534\n"
          ],
          "name": "stdout"
        }
      ]
    },
    {
      "cell_type": "markdown",
      "metadata": {
        "id": "nO5iKlhVAiCI",
        "colab_type": "text"
      },
      "source": [
        "Evaluating our model by passing test dataset, which was not fed to model, so data which is not seen by model will be used. "
      ]
    },
    {
      "cell_type": "code",
      "metadata": {
        "id": "7OmFUlJ3y6H6",
        "colab_type": "code",
        "outputId": "55f8501f-31f6-4e2a-a790-7ec14aa6d8cd",
        "colab": {
          "base_uri": "https://localhost:8080/",
          "height": 54
        }
      },
      "source": [
        "predict_price_model.evaluate(input_feature_test, predicted_test)[1]"
      ],
      "execution_count": 0,
      "outputs": [
        {
          "output_type": "stream",
          "text": [
            "176/176 [==============================] - 0s 120us/step\n"
          ],
          "name": "stdout"
        },
        {
          "output_type": "execute_result",
          "data": {
            "text/plain": [
              "0.8693181818181818"
            ]
          },
          "metadata": {
            "tags": []
          },
          "execution_count": 25
        }
      ]
    },
    {
      "cell_type": "markdown",
      "metadata": {
        "id": "bFQMlvBsBRU5",
        "colab_type": "text"
      },
      "source": [
        "Lets display values by plotting them"
      ]
    },
    {
      "cell_type": "code",
      "metadata": {
        "id": "HhciXvWvy_7H",
        "colab_type": "code",
        "colab": {}
      },
      "source": [
        "\n",
        "import matplotlib.pyplot as plt"
      ],
      "execution_count": 0,
      "outputs": []
    },
    {
      "cell_type": "code",
      "metadata": {
        "id": "HsGETSyUzCG4",
        "colab_type": "code",
        "outputId": "c7c5d8ca-8f53-4393-b94b-4283aaa465a4",
        "colab": {
          "base_uri": "https://localhost:8080/",
          "height": 295
        }
      },
      "source": [
        "plt.plot(history.history['loss'])\n",
        "plt.plot(history.history['val_loss'])\n",
        "plt.title('Model loss')\n",
        "plt.ylabel('Loss values')\n",
        "plt.xlabel('Number of Epochs')\n",
        "plt.legend(['Train', 'Val'], loc='upper right')\n",
        "plt.show()"
      ],
      "execution_count": 0,
      "outputs": [
        {
          "output_type": "display_data",
          "data": {
            "image/png": "[encoded data removed]",
            "text/plain": [
              "<Figure size 432x288 with 1 Axes>"
            ]
          },
          "metadata": {
            "tags": []
          }
        }
      ]
    },
    {
      "cell_type": "code",
      "metadata": {
        "id": "2lQ-0z7NzDvK",
        "colab_type": "code",
        "outputId": "db7fadba-b6c8-4160-e2bc-f67e2acac1b1",
        "colab": {
          "base_uri": "https://localhost:8080/",
          "height": 295
        }
      },
      "source": [
        "plt.plot(history.history['acc'])\n",
        "plt.plot(history.history['val_acc'])\n",
        "plt.title('Model accuracy')\n",
        "plt.ylabel('Accuracy value')\n",
        "plt.xlabel('Number of Epochs')\n",
        "plt.legend(['Train', 'Val'], loc='lower right')\n",
        "plt.show()"
      ],
      "execution_count": 0,
      "outputs": [
        {
          "output_type": "display_data",
          "data": {
            "image/png": "[encoded data removed]",
            "text/plain": [
              "<Figure size 432x288 with 1 Axes>"
            ]
          },
          "metadata": {
            "tags": []
          }
        }
      ]
    },
    {
      "cell_type": "code",
      "metadata": {
        "id": "QirwEJ2XzNpo",
        "colab_type": "code",
        "colab": {}
      },
      "source": [
        ""
      ],
      "execution_count": 0,
      "outputs": []
    }
  ]
}